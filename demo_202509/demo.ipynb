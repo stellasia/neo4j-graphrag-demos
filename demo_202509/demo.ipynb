{
 "cells": [
  {
   "cell_type": "markdown",
   "id": "4fabdb493668ed0c",
   "metadata": {},
   "source": [
    "# Import data from unstructured text\n",
    "\n",
    "## Automatic schema extraction (with LLM)"
   ]
  },
  {
   "cell_type": "code",
   "execution_count": 1,
   "id": "84f47ba2cd3975ab",
   "metadata": {
    "ExecuteTime": {
     "end_time": "2025-07-17T13:50:33.794012Z",
     "start_time": "2025-07-17T13:50:33.425395Z"
    },
    "collapsed": false
   },
   "outputs": [],
   "source": [
    "import neo4j\n",
    "from dotenv import load_dotenv\n",
    "from neo4j_graphrag.embeddings import OpenAIEmbeddings\n",
    "from neo4j_graphrag.llm import OpenAILLM\n",
    "import os\n",
    "from neo4j_graphrag.experimental.pipeline.kg_builder import SimpleKGPipeline\n",
    "# import logging"
   ]
  },
  {
   "cell_type": "code",
   "execution_count": 2,
   "id": "bb02e2c3660bbf54",
   "metadata": {},
   "outputs": [],
   "source": [
    "# This example requires an OPENAI_API_KEY env variable\n",
    "load_dotenv()\n",
    "\n",
    "# Create the embedder instance\n",
    "embedder = OpenAIEmbeddings()\n",
    "\n",
    "# Create the llm instance \n",
    "\n",
    "llm = OpenAILLM(\n",
    "    model_name=\"gpt-4o\",\n",
    "    model_params={\n",
    "        \"max_tokens\": 2000,\n",
    "        \"response_format\": {\"type\": \"json_object\"},\n",
    "        \"temperature\": 0,\n",
    "    },\n",
    ")\n",
    "\n",
    "# Initialize the Neo4j driver\n",
    "# This example requires a local Neo4j dbms instance up and running with APOC plugin being enabled\n",
    "URI = os.getenv(\"NEO4J_URI\")\n",
    "AUTH = (os.getenv(\"NEO4J_USER\"), os.getenv(\"NEO4J_PASSWORD\"))\n",
    "driver = neo4j.GraphDatabase.driver(URI, auth=AUTH)"
   ]
  },
  {
   "cell_type": "code",
   "execution_count": 8,
   "id": "a5d11f0d7bf73011",
   "metadata": {
    "ExecuteTime": {
     "end_time": "2025-09-05T06:55:56.091617Z",
     "start_time": "2025-09-05T06:55:56.083927Z"
    }
   },
   "outputs": [],
   "source": [
    "file_path=\"AA21-287A.pdf\"\n",
    "# text=\"\"\"On July 10, 2024, CyberSecure Inc. observed a targeted phishing and malware campaign affecting multiple financial institutions across North America and Europe linked to the threat actor group Shadow Falcon. \n",
    "# The campaign began with spear-phishing emails impersonating executives and delivering a malicious attachment that exploited CVE-2024-12345 in Microsoft Exchange Server to achieve remote code execution; once executed, \n",
    "# the FalconSpy trojan established persistent C2 connections (notably communicating with 198.51.100.44 and domains like falcon-secure[.]com) and performed credential harvesting, lateral movement, and data exfiltration. \n",
    "# Analysis shows attackers leveraged misconfigured RDP access for persistence and used obfuscation techniques to evade detection. \n",
    "# Immediate mitigations include patching affected Exchange servers, enforcing multi-factor authentication for remote access, hardening RDP exposure, and running organization-wide phishing awareness training, \n",
    "# while monitoring the listed indicators of compromise and sharing telemetry with partners. Continuous monitoring and rapid intelligence sharing are recommended to reduce exposure to similar campaigns.\"\n",
    "# \"\"\""
   ]
  },
  {
   "cell_type": "code",
   "execution_count": null,
   "id": "553ce94cf87fef4f",
   "metadata": {
    "ExecuteTime": {
     "end_time": "2025-07-17T13:55:47.001139Z",
     "start_time": "2025-07-17T13:55:46.995440Z"
    },
    "collapsed": false
   },
   "outputs": [],
   "source": [
    "# set log level to DEBUG for all neo4j_graphrag.* loggers\n",
    "# logging.basicConfig()\n",
    "# logging.getLogger(\"neo4j_graphrag\").setLevel(logging.DEBUG)"
   ]
  },
  {
   "cell_type": "code",
   "execution_count": 10,
   "id": "93c02e3d29abd51c",
   "metadata": {
    "ExecuteTime": {
     "end_time": "2025-07-17T13:56:15.856981Z",
     "start_time": "2025-07-17T13:55:48.710744Z"
    },
    "collapsed": false
   },
   "outputs": [
    {
     "data": {
      "text/plain": [
       "PipelineResult(run_id='48710bab-98cf-4d24-ade0-b9386ce27d11', result={'resolver': {'number_of_nodes_to_resolve': 32, 'number_of_created_nodes': 18}})"
      ]
     },
     "execution_count": 10,
     "metadata": {},
     "output_type": "execute_result"
    }
   ],
   "source": [
    "kg_builder = SimpleKGPipeline(\n",
    "    llm=llm,\n",
    "    driver=driver,\n",
    "    embedder=embedder,\n",
    "    from_pdf=True,\n",
    ")\n",
    "\n",
    "# Run the pipeline on one PDF file\n",
    "await kg_builder.run_async(file_path=file_path)\n",
    "\n",
    "# Run the pipeline on a text\n",
    "# await kg_builder.run_async(text=text)"
   ]
  },
  {
   "cell_type": "markdown",
   "id": "219e98bb55635840",
   "metadata": {},
   "source": [
    "## Customize schema\n",
    "\n",
    "### Start from automatic schema extraction"
   ]
  },
  {
   "cell_type": "code",
   "execution_count": 11,
   "id": "bab250d2e397d62a",
   "metadata": {
    "ExecuteTime": {
     "end_time": "2025-09-05T06:55:15.436185Z",
     "start_time": "2025-09-05T06:55:15.344135Z"
    }
   },
   "outputs": [],
   "source": [
    "from neo4j_graphrag.experimental.components.pdf_loader import PdfLoader\n",
    "from neo4j_graphrag.experimental.components.schema import SchemaFromTextExtractor, GraphSchema"
   ]
  },
  {
   "cell_type": "code",
   "execution_count": 12,
   "id": "d6a37f47fa112a7b",
   "metadata": {},
   "outputs": [],
   "source": [
    "loader = PdfLoader()\n",
    "document = await loader.run(file_path)"
   ]
  },
  {
   "cell_type": "code",
   "execution_count": 13,
   "id": "d869da6eec692fcf",
   "metadata": {},
   "outputs": [
    {
     "data": {
      "text/plain": [
       "GraphSchema(node_types=(NodeType(label='Facility', description='', properties=[PropertyType(name='location', type='STRING', description='', required=False)], additional_properties=False), NodeType(label='ThreatActor', description='', properties=[], additional_properties=True), NodeType(label='Ransomware', description='', properties=[PropertyType(name='variant', type='STRING', description='', required=False)], additional_properties=False), NodeType(label='Employee', description='', properties=[PropertyType(name='role', type='STRING', description='', required=False)], additional_properties=False), NodeType(label='Organization', description='', properties=[PropertyType(name='name', type='STRING', description='', required=False)], additional_properties=False)), relationship_types=(RelationshipType(label='TARGETS', description='', properties=[], additional_properties=True), RelationshipType(label='USES', description='', properties=[], additional_properties=True), RelationshipType(label='EMPLOYS', description='', properties=[], additional_properties=True), RelationshipType(label='COOPERATES_WITH', description='', properties=[], additional_properties=True)), patterns=(('ThreatActor', 'TARGETS', 'Facility'), ('ThreatActor', 'USES', 'Ransomware'), ('Employee', 'EMPLOYS', 'Ransomware'), ('Organization', 'COOPERATES_WITH', 'Organization')), additional_node_types=False, additional_relationship_types=False, additional_patterns=False)"
      ]
     },
     "execution_count": 13,
     "metadata": {},
     "output_type": "execute_result"
    }
   ],
   "source": [
    "schema_builder = SchemaFromTextExtractor(llm)\n",
    "schema = await schema_builder.run(text=document.text)\n",
    "# schema = await schema_builder.run(text=text)\n",
    "schema"
   ]
  },
  {
   "cell_type": "code",
   "execution_count": 14,
   "id": "ea9f38a87a2c811c",
   "metadata": {},
   "outputs": [
    {
     "data": {
      "text/plain": [
       "<neo4j_viz.visualization_graph.VisualizationGraph at 0x119f4d4d0>"
      ]
     },
     "execution_count": 14,
     "metadata": {},
     "output_type": "execute_result"
    }
   ],
   "source": [
    "from neo4j_graphrag.experimental.utils.schema import schema_visualization\n",
    "schema_visualization(schema)"
   ]
  },
  {
   "cell_type": "code",
   "execution_count": 15,
   "id": "4dc9f8e512d73cef",
   "metadata": {},
   "outputs": [],
   "source": [
    "schema.save(\"my_schema.json\")"
   ]
  },
  {
   "cell_type": "markdown",
   "id": "3244036fd508bdd6",
   "metadata": {},
   "source": [
    "### Make changes to JSON schema and reload it"
   ]
  },
  {
   "cell_type": "code",
   "execution_count": 16,
   "id": "e0574df933ce7bd9",
   "metadata": {},
   "outputs": [
    {
     "data": {
      "text/plain": [
       "PipelineResult(run_id='5c58a973-dd00-450e-8787-b181239d251c', result={'resolver': {'number_of_nodes_to_resolve': 67, 'number_of_created_nodes': 20}})"
      ]
     },
     "execution_count": 16,
     "metadata": {},
     "output_type": "execute_result"
    }
   ],
   "source": [
    "schema = GraphSchema.from_file(\"my_schema.json\")\n",
    "\n",
    "kg_builder = SimpleKGPipeline(\n",
    "    llm=llm,\n",
    "    driver=driver,\n",
    "    embedder=embedder,\n",
    "    schema=schema, # USE OUR SCHEMA\n",
    "    from_pdf=False,  # RUN FROM ALREADY EXTRACTED TEXT\n",
    ")\n",
    "\n",
    "# Run the pipeline on the extracted text\n",
    "await kg_builder.run_async(text=document.text)"
   ]
  }
 ],
 "metadata": {
  "kernelspec": {
   "display_name": ".venv",
   "language": "python",
   "name": "python3"
  },
  "language_info": {
   "codemirror_mode": {
    "name": "ipython",
    "version": 3
   },
   "file_extension": ".py",
   "mimetype": "text/x-python",
   "name": "python",
   "nbconvert_exporter": "python",
   "pygments_lexer": "ipython3",
   "version": "3.11.5"
  }
 },
 "nbformat": 4,
 "nbformat_minor": 5
}
