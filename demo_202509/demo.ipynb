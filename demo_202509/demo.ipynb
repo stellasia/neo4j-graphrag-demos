{
 "cells": [
  {
   "metadata": {},
   "cell_type": "markdown",
   "source": [
    "# Import data from unstructured text\n",
    "\n",
    "## Automatic schema extraction (with LLM)"
   ],
   "id": "4fabdb493668ed0c"
  },
  {
   "metadata": {
    "collapsed": false,
    "ExecuteTime": {
     "end_time": "2025-07-17T13:50:33.794012Z",
     "start_time": "2025-07-17T13:50:33.425395Z"
    }
   },
   "cell_type": "code",
   "outputs": [],
   "execution_count": 1,
   "source": [
    "import neo4j\n",
    "from dotenv import load_dotenv\n",
    "from neo4j_graphrag.embeddings import OpenAIEmbeddings\n",
    "from neo4j_graphrag.llm import OpenAILLM\n",
    "import os\n",
    "from neo4j_graphrag.experimental.pipeline.kg_builder import SimpleKGPipeline\n",
    "# import logging"
   ],
   "id": "84f47ba2cd3975ab"
  },
  {
   "cell_type": "code",
   "execution_count": 2,
   "id": "bb02e2c3660bbf54",
   "metadata": {},
   "source": [
    "# This example requires an OPENAI_API_KEY env variable\n",
    "load_dotenv()\n",
    "\n",
    "# Create the embedder instance\n",
    "embedder = OpenAIEmbeddings()\n",
    "\n",
    "# Create the llm instance \n",
    "\n",
    "llm = OpenAILLM(\n",
    "    model_name=\"gpt-4o\",\n",
    "    model_params={\n",
    "        \"max_tokens\": 2000,\n",
    "        \"response_format\": {\"type\": \"json_object\"},\n",
    "        \"temperature\": 0,\n",
    "    },\n",
    ")\n",
    "\n",
    "# Initialize the Neo4j driver\n",
    "# This example requires a local Neo4j dbms instance up and running with APOC plugin being enabled\n",
    "URI = os.getenv(\"NEO4J_URI\")\n",
    "AUTH = (os.getenv(\"NEO4J_USER\"), os.getenv(\"NEO4J_PASSWORD\"))\n",
    "driver = neo4j.GraphDatabase.driver(URI, auth=AUTH)"
   ],
   "outputs": []
  },
  {
   "metadata": {
    "ExecuteTime": {
     "end_time": "2025-09-05T06:55:56.091617Z",
     "start_time": "2025-09-05T06:55:56.083927Z"
    }
   },
   "cell_type": "code",
   "source": "file_path=\"\"",
   "id": "a5d11f0d7bf73011",
   "outputs": [],
   "execution_count": 3
  },
  {
   "cell_type": "code",
   "execution_count": 5,
   "id": "553ce94cf87fef4f",
   "metadata": {
    "collapsed": false,
    "ExecuteTime": {
     "end_time": "2025-07-17T13:55:47.001139Z",
     "start_time": "2025-07-17T13:55:46.995440Z"
    }
   },
   "outputs": [],
   "source": [
    "# set log level to DEBUG for all neo4j_graphrag.* loggers\n",
    "# logging.basicConfig()\n",
    "# logging.getLogger(\"neo4j_graphrag\").setLevel(logging.DEBUG)"
   ]
  },
  {
   "cell_type": "code",
   "execution_count": 6,
   "id": "93c02e3d29abd51c",
   "metadata": {
    "collapsed": false,
    "ExecuteTime": {
     "end_time": "2025-07-17T13:56:15.856981Z",
     "start_time": "2025-07-17T13:55:48.710744Z"
    }
   },
   "outputs": [
    {
     "name": "stderr",
     "output_type": "stream",
     "text": [
      "DEBUG:neo4j_graphrag.experimental.pipeline.config.runner:PIPELINE_RUNNER: instantiating Pipeline from config type: PipelineType.SIMPLE_KG_PIPELINE\n",
      "DEBUG:neo4j_graphrag.experimental.pipeline.config.runner:PIPELINE_CONFIG: start parsing config...\n",
      "DEBUG:neo4j_graphrag.experimental.pipeline.config.pipeline_config:PIPELINE_CONFIG: resolved 'extras': {'extras': {}}\n",
      "DEBUG:neo4j_graphrag.experimental.pipeline.config.pipeline_config:PIPELINE_CONFIG: resolved globals: {'extras': {}, 'neo4j_config': {'default': <neo4j._sync.driver.Neo4jDriver object at 0x125a312d0>}, 'llm_config': {'default': <neo4j_graphrag.llm.openai_llm.OpenAILLM object at 0x1258e9ad0>}, 'embedder_config': {'default': <neo4j_graphrag.embeddings.openai.OpenAIEmbeddings object at 0x1258e9bd0>}}\n",
      "DEBUG:neo4j_graphrag.experimental.pipeline.config.template_pipeline.base:TEMPLATE_PIPELINE: resolved component name='pdf_loader' component=<neo4j_graphrag.experimental.components.pdf_loader.PdfLoader object at 0x12631fe50> run_params={}\n",
      "DEBUG:neo4j_graphrag.experimental.pipeline.config.template_pipeline.base:TEMPLATE_PIPELINE: resolved component name='splitter' component=<neo4j_graphrag.experimental.components.text_splitters.fixed_size_splitter.FixedSizeSplitter object at 0x1263cc990> run_params={}\n",
      "DEBUG:neo4j_graphrag.experimental.pipeline.config.template_pipeline.base:TEMPLATE_PIPELINE: resolved component name='chunk_embedder' component=<neo4j_graphrag.experimental.components.embedder.TextChunkEmbedder object at 0x126366050> run_params={}\n",
      "DEBUG:neo4j_graphrag.experimental.pipeline.config.template_pipeline.base:TEMPLATE_PIPELINE: resolved component name='schema' component=<neo4j_graphrag.experimental.components.schema.SchemaFromTextExtractor object at 0x120e98110> run_params={}\n",
      "DEBUG:neo4j_graphrag.experimental.pipeline.config.template_pipeline.base:TEMPLATE_PIPELINE: resolved component name='extractor' component=<neo4j_graphrag.experimental.components.entity_relation_extractor.LLMEntityRelationExtractor object at 0x1266c7510> run_params={}\n",
      "DEBUG:neo4j_graphrag.experimental.pipeline.config.template_pipeline.base:TEMPLATE_PIPELINE: resolved component name='pruner' component=<neo4j_graphrag.experimental.components.graph_pruning.GraphPruning object at 0x1263b2350> run_params={}\n",
      "DEBUG:neo4j_graphrag.experimental.pipeline.config.template_pipeline.base:TEMPLATE_PIPELINE: resolved component name='writer' component=<neo4j_graphrag.experimental.components.kg_writer.Neo4jWriter object at 0x1263b2f50> run_params={}\n",
      "DEBUG:neo4j_graphrag.experimental.pipeline.config.template_pipeline.base:TEMPLATE_PIPELINE: resolved component name='resolver' component=<neo4j_graphrag.experimental.components.resolver.SinglePropertyExactMatchResolver object at 0x1263b30d0> run_params={}\n",
      "INFO:neo4j_graphrag.experimental.pipeline.config.runner:PIPELINE_RUNNER: starting pipeline <neo4j_graphrag.experimental.pipeline.pipeline.Pipeline object at 0x126366010> with run_params={'pdf_loader': {'filepath': './data/AA21-287A.pdf'}}\n",
      "DEBUG:neo4j_graphrag.experimental.pipeline.pipeline:PIPELINE START\n",
      "DEBUG:neo4j_graphrag.experimental.pipeline.pipeline:PIPELINE ORCHESTRATOR: 63d29ef2-9c1a-4c7c-92fc-015c54fad0f1\n",
      "DEBUG:neo4j_graphrag.experimental.pipeline.pipeline:TASK START self.name='pdf_loader' input={'filepath': './data/AA21-287A.pdf'}\n",
      "DEBUG:neo4j_graphrag.experimental.pipeline.pipeline:TASK FINISHED pdf_loader in 0.09631537500172271 res={'status': <RunStatus.DONE: 'DONE'>, 'result': {'text': '  \\n \\n \\n \\n  \\n   \\n \\nTo report suspicious or criminal activity related to information found in this Joint Cybersecurity Advisory, contact \\nyour local FBI field office at www.fbi.gov/contact -us/field-off... (17416 chars)', 'document_info': {'path': './data/AA21-287A.pdf', 'metadata': None, 'uid': '92327205-455e-48f2-ba7a-b0b6e43e012b'}}, 'timestamp': datetime.datetime(2025, 7, 17, 13, 55, 49, 171441, tzinfo=datetime.timezone.utc)}\n",
      "DEBUG:neo4j_graphrag.experimental.pipeline.orchestrator:ORCHESTRATOR 63d29ef2-9c1a-4c7c-92fc-015c54fad0f1: enqueuing next task: splitter\n",
      "DEBUG:neo4j_graphrag.experimental.pipeline.orchestrator:ORCHESTRATOR 63d29ef2-9c1a-4c7c-92fc-015c54fad0f1: enqueuing next task: schema\n",
      "DEBUG:neo4j_graphrag.experimental.pipeline.pipeline:TASK START self.name='splitter' input={'text': '  \\n \\n \\n \\n  \\n   \\n \\nTo report suspicious or criminal activity related to information found in this Joint Cybersecurity Advisory, contact \\nyour local FBI field office at www.fbi.gov/contact -us/field-off... (17416 chars)'}\n",
      "DEBUG:neo4j_graphrag.experimental.pipeline.pipeline:TASK FINISHED splitter in 8.287499804282561e-05 res={'status': <RunStatus.DONE: 'DONE'>, 'result': {'chunks': [{'text': '  \\n \\n \\n \\n  \\n   \\n \\nTo report suspicious or criminal activity related to information found in this Joint Cybersecurity Advisory, contact \\nyour local FBI field office at www.fbi.gov/contact -us/field-off... (3800 chars)', 'index': 0, 'metadata': None, 'uid': '82e2fc31-59a8-42d6-a88c-faadfc63863d'}, {'text': 'can gain access—either \\npurposefully or inadvertently—to OT assets after the IT network has been \\ncompromised through spearphishing and other techniques. \\no Exploitation of internet-connected services... (3799 chars)', 'index': 1, 'metadata': None, 'uid': '2d2b405d-ee98-4cf8-b206-53a20439bb5f'}, {'text': 'for monitoring WWS should check for the following suspicious activities and \\nindicators, which may be indicative of threat actor activity: \\n• Inability of WWS facility personnel to access SCADA system... (3792 chars)', 'index': 2, 'metadata': None, 'uid': '4621e3b9-05cc-4507-a5b4-90c209fdc2e8'}, {'text': '\\nAgency’s (EPA) Cybersecurity Incident Action Checklist as well as the Ransomware \\nResponse Checklist on p. 11 of the CISA-Multi-State Information Sharing and Analysis Center \\n(MS-ISAC) Joint Ransomwa... (3796 chars)', 'index': 3, 'metadata': None, 'uid': '163bb146-20e5-4eb9-aa48-509d8b627563'}, {'text': 'reduce their risk and mitigate attack vectors.  \\nRewards for Justice Reporting \\nThe U.S. Department of State’s Rewards for Justice (RFJ) program offers a reward of up to $10 \\nmillion for reports of fo... (2220 chars)', 'index': 4, 'metadata': None, 'uid': '3a4465f6-353d-4191-8bae-ed8247ba8e57'}]}, 'timestamp': datetime.datetime(2025, 7, 17, 13, 55, 49, 172835, tzinfo=datetime.timezone.utc)}\n",
      "DEBUG:neo4j_graphrag.experimental.pipeline.orchestrator:ORCHESTRATOR 63d29ef2-9c1a-4c7c-92fc-015c54fad0f1: enqueuing next task: chunk_embedder\n",
      "DEBUG:neo4j_graphrag.experimental.pipeline.pipeline:TASK START self.name='schema' input={'text': '  \\n \\n \\n \\n  \\n   \\n \\nTo report suspicious or criminal activity related to information found in this Joint Cybersecurity Advisory, contact \\nyour local FBI field office at www.fbi.gov/contact -us/field-off... (17416 chars)'}\n",
      "DEBUG:neo4j_graphrag.experimental.pipeline.pipeline:TASK START self.name='chunk_embedder' input={'text_chunks': {'chunks': [{'text': '  \\n \\n \\n \\n  \\n   \\n \\nTo report suspicious or criminal activity related to information found in this Joint Cybersecurity Advisory, contact \\nyour local FBI field office at www.fbi.gov/contact -us/field-off... (3800 chars)', 'index': 0, 'metadata': None, 'uid': '82e2fc31-59a8-42d6-a88c-faadfc63863d'}, {'text': 'can gain access—either \\npurposefully or inadvertently—to OT assets after the IT network has been \\ncompromised through spearphishing and other techniques. \\no Exploitation of internet-connected services... (3799 chars)', 'index': 1, 'metadata': None, 'uid': '2d2b405d-ee98-4cf8-b206-53a20439bb5f'}, {'text': 'for monitoring WWS should check for the following suspicious activities and \\nindicators, which may be indicative of threat actor activity: \\n• Inability of WWS facility personnel to access SCADA system... (3792 chars)', 'index': 2, 'metadata': None, 'uid': '4621e3b9-05cc-4507-a5b4-90c209fdc2e8'}, {'text': '\\nAgency’s (EPA) Cybersecurity Incident Action Checklist as well as the Ransomware \\nResponse Checklist on p. 11 of the CISA-Multi-State Information Sharing and Analysis Center \\n(MS-ISAC) Joint Ransomwa... (3796 chars)', 'index': 3, 'metadata': None, 'uid': '163bb146-20e5-4eb9-aa48-509d8b627563'}, {'text': 'reduce their risk and mitigate attack vectors.  \\nRewards for Justice Reporting \\nThe U.S. Department of State’s Rewards for Justice (RFJ) program offers a reward of up to $10 \\nmillion for reports of fo... (2220 chars)', 'index': 4, 'metadata': None, 'uid': '3a4465f6-353d-4191-8bae-ed8247ba8e57'}]}}\n",
      "DEBUG:neo4j_graphrag.experimental.pipeline.pipeline:TASK FINISHED chunk_embedder in 1.3118074999983946 res={'status': <RunStatus.DONE: 'DONE'>, 'result': {'chunks': [{'text': '  \\n \\n \\n \\n  \\n   \\n \\nTo report suspicious or criminal activity related to information found in this Joint Cybersecurity Advisory, contact \\nyour local FBI field office at www.fbi.gov/contact -us/field-off... (3800 chars)', 'index': 0, 'metadata': {'embedding': [0.011211024597287178, -0.016439108178019524, -0.012518045492470264, -0.023791974410414696, -0.0035488763824105263, '... (1531 items)']}, 'uid': '82e2fc31-59a8-42d6-a88c-faadfc63863d'}, {'text': 'can gain access—either \\npurposefully or inadvertently—to OT assets after the IT network has been \\ncompromised through spearphishing and other techniques. \\no Exploitation of internet-connected services... (3799 chars)', 'index': 1, 'metadata': {'embedding': [0.00998564250767231, -0.02557898499071598, 0.0016944321105256677, -0.021123744547367096, -0.026956316083669662, '... (1531 items)']}, 'uid': '2d2b405d-ee98-4cf8-b206-53a20439bb5f'}, {'text': 'for monitoring WWS should check for the following suspicious activities and \\nindicators, which may be indicative of threat actor activity: \\n• Inability of WWS facility personnel to access SCADA system... (3792 chars)', 'index': 2, 'metadata': {'embedding': [0.0029380908235907555, -0.021595142781734467, 0.000977608491666615, -0.022606099024415016, -0.02900882065296173, '... (1531 items)']}, 'uid': '4621e3b9-05cc-4507-a5b4-90c209fdc2e8'}, {'text': '\\nAgency’s (EPA) Cybersecurity Incident Action Checklist as well as the Ransomware \\nResponse Checklist on p. 11 of the CISA-Multi-State Information Sharing and Analysis Center \\n(MS-ISAC) Joint Ransomwa... (3796 chars)', 'index': 3, 'metadata': {'embedding': [0.000396638730308041, -0.014622366987168789, -0.009713026694953442, -0.022595642134547234, -0.017017167061567307, '... (1531 items)']}, 'uid': '163bb146-20e5-4eb9-aa48-509d8b627563'}, {'text': 'reduce their risk and mitigate attack vectors.  \\nRewards for Justice Reporting \\nThe U.S. Department of State’s Rewards for Justice (RFJ) program offers a reward of up to $10 \\nmillion for reports of fo... (2220 chars)', 'index': 4, 'metadata': {'embedding': [0.003545258194208145, -0.022600367665290833, -0.009737689048051834, -0.027120441198349, -0.014773944392800331, '... (1531 items)']}, 'uid': '3a4465f6-353d-4191-8bae-ed8247ba8e57'}]}, 'timestamp': datetime.datetime(2025, 7, 17, 13, 55, 50, 487259, tzinfo=datetime.timezone.utc)}\n",
      "DEBUG:neo4j_graphrag.experimental.pipeline.orchestrator:ORCHESTRATOR 63d29ef2-9c1a-4c7c-92fc-015c54fad0f1: TASK DELAYED: Missing dependency schema for extractor (status: RunStatus.RUNNING). Will try again when dependency is complete.\n",
      "DEBUG:neo4j_graphrag.experimental.pipeline.pipeline:TASK FINISHED schema in 9.963128999999753 res={'status': <RunStatus.DONE: 'DONE'>, 'result': {'node_types': ({'label': 'Organization', 'description': '', 'properties': [{'name': 'name', 'type': 'STRING', 'description': '', 'required': False}], 'additional_properties': False}, {'label': 'Facility', 'description': '', 'properties': [{'name': 'location', 'type': 'STRING', 'description': '', 'required': False}], 'additional_properties': False}, {'label': 'ThreatActor', 'description': '', 'properties': [], 'additional_properties': True}, {'label': 'Ransomware', 'description': '', 'properties': [{'name': 'variant', 'type': 'STRING', 'description': '', 'required': False}], 'additional_properties': False}, {'label': 'Incident', 'description': '', 'properties': [{'name': 'date', 'type': 'DATE', 'description': '', 'required': False}, {'name': 'description', 'type': 'STRING', 'description': '', 'required': False}], 'additional_properties': False}), 'relationship_types': ({'label': 'TARGETS', 'description': '', 'properties': [], 'additional_properties': True}, {'label': 'USES', 'description': '', 'properties': [], 'additional_properties': True}, {'label': 'REPORTED_BY', 'description': '', 'properties': [], 'additional_properties': True}), 'patterns': (('ThreatActor', 'TARGETS', 'Facility'), ('ThreatActor', 'USES', 'Ransomware'), ('Incident', 'REPORTED_BY', 'Organization')), 'additional_node_types': False, 'additional_relationship_types': False, 'additional_patterns': False}, 'timestamp': datetime.datetime(2025, 7, 17, 13, 55, 59, 136687, tzinfo=datetime.timezone.utc)}\n",
      "DEBUG:neo4j_graphrag.experimental.pipeline.orchestrator:ORCHESTRATOR 63d29ef2-9c1a-4c7c-92fc-015c54fad0f1: enqueuing next task: extractor\n",
      "DEBUG:neo4j_graphrag.experimental.pipeline.pipeline:TASK START self.name='extractor' input={'schema': {'node_types': ({'label': 'Organization', 'description': '', 'properties': [{'name': 'name', 'type': 'STRING', 'description': '', 'required': False}], 'additional_properties': False}, {'label': 'Facility', 'description': '', 'properties': [{'name': 'location', 'type': 'STRING', 'description': '', 'required': False}], 'additional_properties': False}, {'label': 'ThreatActor', 'description': '', 'properties': [], 'additional_properties': True}, {'label': 'Ransomware', 'description': '', 'properties': [{'name': 'variant', 'type': 'STRING', 'description': '', 'required': False}], 'additional_properties': False}, {'label': 'Incident', 'description': '', 'properties': [{'name': 'date', 'type': 'DATE', 'description': '', 'required': False}, {'name': 'description', 'type': 'STRING', 'description': '', 'required': False}], 'additional_properties': False}), 'relationship_types': ({'label': 'TARGETS', 'description': '', 'properties': [], 'additional_properties': True}, {'label': 'USES', 'description': '', 'properties': [], 'additional_properties': True}, {'label': 'REPORTED_BY', 'description': '', 'properties': [], 'additional_properties': True}), 'patterns': (('ThreatActor', 'TARGETS', 'Facility'), ('ThreatActor', 'USES', 'Ransomware'), ('Incident', 'REPORTED_BY', 'Organization')), 'additional_node_types': False, 'additional_relationship_types': False, 'additional_patterns': False}, 'document_info': {'path': './data/AA21-287A.pdf', 'metadata': None, 'uid': '92327205-455e-48f2-ba7a-b0b6e43e012b'}, 'chunks': {'chunks': [{'text': '  \\n \\n \\n \\n  \\n   \\n \\nTo report suspicious or criminal activity related to information found in this Joint Cybersecurity Advisory, contact \\nyour local FBI field office at www.fbi.gov/contact -us/field-off... (3800 chars)', 'index': 0, 'metadata': {'embedding': [0.011211024597287178, -0.016439108178019524, -0.012518045492470264, -0.023791974410414696, -0.0035488763824105263, '... (1531 items)']}, 'uid': '82e2fc31-59a8-42d6-a88c-faadfc63863d'}, {'text': 'can gain access—either \\npurposefully or inadvertently—to OT assets after the IT network has been \\ncompromised through spearphishing and other techniques. \\no Exploitation of internet-connected services... (3799 chars)', 'index': 1, 'metadata': {'embedding': [0.00998564250767231, -0.02557898499071598, 0.0016944321105256677, -0.021123744547367096, -0.026956316083669662, '... (1531 items)']}, 'uid': '2d2b405d-ee98-4cf8-b206-53a20439bb5f'}, {'text': 'for monitoring WWS should check for the following suspicious activities and \\nindicators, which may be indicative of threat actor activity: \\n• Inability of WWS facility personnel to access SCADA system... (3792 chars)', 'index': 2, 'metadata': {'embedding': [0.0029380908235907555, -0.021595142781734467, 0.000977608491666615, -0.022606099024415016, -0.02900882065296173, '... (1531 items)']}, 'uid': '4621e3b9-05cc-4507-a5b4-90c209fdc2e8'}, {'text': '\\nAgency’s (EPA) Cybersecurity Incident Action Checklist as well as the Ransomware \\nResponse Checklist on p. 11 of the CISA-Multi-State Information Sharing and Analysis Center \\n(MS-ISAC) Joint Ransomwa... (3796 chars)', 'index': 3, 'metadata': {'embedding': [0.000396638730308041, -0.014622366987168789, -0.009713026694953442, -0.022595642134547234, -0.017017167061567307, '... (1531 items)']}, 'uid': '163bb146-20e5-4eb9-aa48-509d8b627563'}, {'text': 'reduce their risk and mitigate attack vectors.  \\nRewards for Justice Reporting \\nThe U.S. Department of State’s Rewards for Justice (RFJ) program offers a reward of up to $10 \\nmillion for reports of fo... (2220 chars)', 'index': 4, 'metadata': {'embedding': [0.003545258194208145, -0.022600367665290833, -0.009737689048051834, -0.027120441198349, -0.014773944392800331, '... (1531 items)']}, 'uid': '3a4465f6-353d-4191-8bae-ed8247ba8e57'}]}}\n",
      "DEBUG:neo4j_graphrag.experimental.components.entity_relation_extractor:Extracted graph: {'nodes': [{'id': '92327205-455e-48f2-ba7a-b0b6e43e012b', 'label': 'Document', 'properties': {'path': './data/AA21-287A.pdf', 'createdAt': '2025-07-17T13:55:59.137942+00:00'}, 'embedding_properties': None}, {'id': '82e2fc31-59a8-42d6-a88c-faadfc63863d', 'label': 'Chunk', 'properties': {'text': '  \\n \\n \\n \\n  \\n   \\n \\nTo report suspicious or criminal activity related to information found in this Joint Cybersecurity Advisory, contact \\nyour local FBI field office at www.fbi.gov/contact -us/field-off... (3800 chars)', 'index': 0}, 'embedding_properties': {'embedding': [0.011211024597287178, -0.016439108178019524, -0.012518045492470264, -0.023791974410414696, -0.0035488763824105263, '... (1531 items)']}}, {'id': '2d2b405d-ee98-4cf8-b206-53a20439bb5f', 'label': 'Chunk', 'properties': {'text': 'can gain access—either \\npurposefully or inadvertently—to OT assets after the IT network has been \\ncompromised through spearphishing and other techniques. \\no Exploitation of internet-connected services... (3799 chars)', 'index': 1}, 'embedding_properties': {'embedding': [0.00998564250767231, -0.02557898499071598, 0.0016944321105256677, -0.021123744547367096, -0.026956316083669662, '... (1531 items)']}}, {'id': '4621e3b9-05cc-4507-a5b4-90c209fdc2e8', 'label': 'Chunk', 'properties': {'text': 'for monitoring WWS should check for the following suspicious activities and \\nindicators, which may be indicative of threat actor activity: \\n• Inability of WWS facility personnel to access SCADA system... (3792 chars)', 'index': 2}, 'embedding_properties': {'embedding': [0.0029380908235907555, -0.021595142781734467, 0.000977608491666615, -0.022606099024415016, -0.02900882065296173, '... (1531 items)']}}, {'id': '163bb146-20e5-4eb9-aa48-509d8b627563', 'label': 'Chunk', 'properties': {'text': '\\nAgency’s (EPA) Cybersecurity Incident Action Checklist as well as the Ransomware \\nResponse Checklist on p. 11 of the CISA-Multi-State Information Sharing and Analysis Center \\n(MS-ISAC) Joint Ransomwa... (3796 chars)', 'index': 3}, 'embedding_properties': {'embedding': [0.000396638730308041, -0.014622366987168789, -0.009713026694953442, -0.022595642134547234, -0.017017167061567307, '... (1531 items)']}}, '... (53 items)'], 'relationships': [{'start_node_id': '82e2fc31-59a8-42d6-a88c-faadfc63863d', 'end_node_id': '92327205-455e-48f2-ba7a-b0b6e43e012b', 'type': 'FROM_DOCUMENT', 'properties': {}, 'embedding_properties': None}, {'start_node_id': '82e2fc31-59a8-42d6-a88c-faadfc63863d', 'end_node_id': '2d2b405d-ee98-4cf8-b206-53a20439bb5f', 'type': 'NEXT_CHUNK', 'properties': {}, 'embedding_properties': None}, {'start_node_id': '2d2b405d-ee98-4cf8-b206-53a20439bb5f', 'end_node_id': '92327205-455e-48f2-ba7a-b0b6e43e012b', 'type': 'FROM_DOCUMENT', 'properties': {}, 'embedding_properties': None}, {'start_node_id': '2d2b405d-ee98-4cf8-b206-53a20439bb5f', 'end_node_id': '4621e3b9-05cc-4507-a5b4-90c209fdc2e8', 'type': 'NEXT_CHUNK', 'properties': {}, 'embedding_properties': None}, {'start_node_id': '4621e3b9-05cc-4507-a5b4-90c209fdc2e8', 'end_node_id': '92327205-455e-48f2-ba7a-b0b6e43e012b', 'type': 'FROM_DOCUMENT', 'properties': {}, 'embedding_properties': None}, '... (110 items)']}\n",
      "DEBUG:neo4j_graphrag.experimental.pipeline.pipeline:TASK FINISHED extractor in 15.780415290999372 res={'status': <RunStatus.DONE: 'DONE'>, 'result': {'nodes': [{'id': '92327205-455e-48f2-ba7a-b0b6e43e012b', 'label': 'Document', 'properties': {'path': './data/AA21-287A.pdf', 'createdAt': '2025-07-17T13:55:59.137942+00:00'}, 'embedding_properties': None}, {'id': '82e2fc31-59a8-42d6-a88c-faadfc63863d', 'label': 'Chunk', 'properties': {'text': '  \\n \\n \\n \\n  \\n   \\n \\nTo report suspicious or criminal activity related to information found in this Joint Cybersecurity Advisory, contact \\nyour local FBI field office at www.fbi.gov/contact -us/field-off... (3800 chars)', 'index': 0}, 'embedding_properties': {'embedding': [0.011211024597287178, -0.016439108178019524, -0.012518045492470264, -0.023791974410414696, -0.0035488763824105263, '... (1531 items)']}}, {'id': '2d2b405d-ee98-4cf8-b206-53a20439bb5f', 'label': 'Chunk', 'properties': {'text': 'can gain access—either \\npurposefully or inadvertently—to OT assets after the IT network has been \\ncompromised through spearphishing and other techniques. \\no Exploitation of internet-connected services... (3799 chars)', 'index': 1}, 'embedding_properties': {'embedding': [0.00998564250767231, -0.02557898499071598, 0.0016944321105256677, -0.021123744547367096, -0.026956316083669662, '... (1531 items)']}}, {'id': '4621e3b9-05cc-4507-a5b4-90c209fdc2e8', 'label': 'Chunk', 'properties': {'text': 'for monitoring WWS should check for the following suspicious activities and \\nindicators, which may be indicative of threat actor activity: \\n• Inability of WWS facility personnel to access SCADA system... (3792 chars)', 'index': 2}, 'embedding_properties': {'embedding': [0.0029380908235907555, -0.021595142781734467, 0.000977608491666615, -0.022606099024415016, -0.02900882065296173, '... (1531 items)']}}, {'id': '163bb146-20e5-4eb9-aa48-509d8b627563', 'label': 'Chunk', 'properties': {'text': '\\nAgency’s (EPA) Cybersecurity Incident Action Checklist as well as the Ransomware \\nResponse Checklist on p. 11 of the CISA-Multi-State Information Sharing and Analysis Center \\n(MS-ISAC) Joint Ransomwa... (3796 chars)', 'index': 3}, 'embedding_properties': {'embedding': [0.000396638730308041, -0.014622366987168789, -0.009713026694953442, -0.022595642134547234, -0.017017167061567307, '... (1531 items)']}}, '... (53 items)'], 'relationships': [{'start_node_id': '82e2fc31-59a8-42d6-a88c-faadfc63863d', 'end_node_id': '92327205-455e-48f2-ba7a-b0b6e43e012b', 'type': 'FROM_DOCUMENT', 'properties': {}, 'embedding_properties': None}, {'start_node_id': '82e2fc31-59a8-42d6-a88c-faadfc63863d', 'end_node_id': '2d2b405d-ee98-4cf8-b206-53a20439bb5f', 'type': 'NEXT_CHUNK', 'properties': {}, 'embedding_properties': None}, {'start_node_id': '2d2b405d-ee98-4cf8-b206-53a20439bb5f', 'end_node_id': '92327205-455e-48f2-ba7a-b0b6e43e012b', 'type': 'FROM_DOCUMENT', 'properties': {}, 'embedding_properties': None}, {'start_node_id': '2d2b405d-ee98-4cf8-b206-53a20439bb5f', 'end_node_id': '4621e3b9-05cc-4507-a5b4-90c209fdc2e8', 'type': 'NEXT_CHUNK', 'properties': {}, 'embedding_properties': None}, {'start_node_id': '4621e3b9-05cc-4507-a5b4-90c209fdc2e8', 'end_node_id': '92327205-455e-48f2-ba7a-b0b6e43e012b', 'type': 'FROM_DOCUMENT', 'properties': {}, 'embedding_properties': None}, '... (110 items)']}, 'timestamp': datetime.datetime(2025, 7, 17, 13, 56, 14, 918214, tzinfo=datetime.timezone.utc)}\n",
      "DEBUG:neo4j_graphrag.experimental.pipeline.orchestrator:ORCHESTRATOR 63d29ef2-9c1a-4c7c-92fc-015c54fad0f1: enqueuing next task: pruner\n",
      "DEBUG:neo4j_graphrag.experimental.pipeline.pipeline:TASK START self.name='pruner' input={'graph': {'nodes': [{'id': '92327205-455e-48f2-ba7a-b0b6e43e012b', 'label': 'Document', 'properties': {'path': './data/AA21-287A.pdf', 'createdAt': '2025-07-17T13:55:59.137942+00:00'}, 'embedding_properties': None}, {'id': '82e2fc31-59a8-42d6-a88c-faadfc63863d', 'label': 'Chunk', 'properties': {'text': '  \\n \\n \\n \\n  \\n   \\n \\nTo report suspicious or criminal activity related to information found in this Joint Cybersecurity Advisory, contact \\nyour local FBI field office at www.fbi.gov/contact -us/field-off... (3800 chars)', 'index': 0}, 'embedding_properties': {'embedding': [0.011211024597287178, -0.016439108178019524, -0.012518045492470264, -0.023791974410414696, -0.0035488763824105263, '... (1531 items)']}}, {'id': '2d2b405d-ee98-4cf8-b206-53a20439bb5f', 'label': 'Chunk', 'properties': {'text': 'can gain access—either \\npurposefully or inadvertently—to OT assets after the IT network has been \\ncompromised through spearphishing and other techniques. \\no Exploitation of internet-connected services... (3799 chars)', 'index': 1}, 'embedding_properties': {'embedding': [0.00998564250767231, -0.02557898499071598, 0.0016944321105256677, -0.021123744547367096, -0.026956316083669662, '... (1531 items)']}}, {'id': '4621e3b9-05cc-4507-a5b4-90c209fdc2e8', 'label': 'Chunk', 'properties': {'text': 'for monitoring WWS should check for the following suspicious activities and \\nindicators, which may be indicative of threat actor activity: \\n• Inability of WWS facility personnel to access SCADA system... (3792 chars)', 'index': 2}, 'embedding_properties': {'embedding': [0.0029380908235907555, -0.021595142781734467, 0.000977608491666615, -0.022606099024415016, -0.02900882065296173, '... (1531 items)']}}, {'id': '163bb146-20e5-4eb9-aa48-509d8b627563', 'label': 'Chunk', 'properties': {'text': '\\nAgency’s (EPA) Cybersecurity Incident Action Checklist as well as the Ransomware \\nResponse Checklist on p. 11 of the CISA-Multi-State Information Sharing and Analysis Center \\n(MS-ISAC) Joint Ransomwa... (3796 chars)', 'index': 3}, 'embedding_properties': {'embedding': [0.000396638730308041, -0.014622366987168789, -0.009713026694953442, -0.022595642134547234, -0.017017167061567307, '... (1531 items)']}}, '... (53 items)'], 'relationships': [{'start_node_id': '82e2fc31-59a8-42d6-a88c-faadfc63863d', 'end_node_id': '92327205-455e-48f2-ba7a-b0b6e43e012b', 'type': 'FROM_DOCUMENT', 'properties': {}, 'embedding_properties': None}, {'start_node_id': '82e2fc31-59a8-42d6-a88c-faadfc63863d', 'end_node_id': '2d2b405d-ee98-4cf8-b206-53a20439bb5f', 'type': 'NEXT_CHUNK', 'properties': {}, 'embedding_properties': None}, {'start_node_id': '2d2b405d-ee98-4cf8-b206-53a20439bb5f', 'end_node_id': '92327205-455e-48f2-ba7a-b0b6e43e012b', 'type': 'FROM_DOCUMENT', 'properties': {}, 'embedding_properties': None}, {'start_node_id': '2d2b405d-ee98-4cf8-b206-53a20439bb5f', 'end_node_id': '4621e3b9-05cc-4507-a5b4-90c209fdc2e8', 'type': 'NEXT_CHUNK', 'properties': {}, 'embedding_properties': None}, {'start_node_id': '4621e3b9-05cc-4507-a5b4-90c209fdc2e8', 'end_node_id': '92327205-455e-48f2-ba7a-b0b6e43e012b', 'type': 'FROM_DOCUMENT', 'properties': {}, 'embedding_properties': None}, '... (110 items)']}, 'schema': {'node_types': ({'label': 'Organization', 'description': '', 'properties': [{'name': 'name', 'type': 'STRING', 'description': '', 'required': False}], 'additional_properties': False}, {'label': 'Facility', 'description': '', 'properties': [{'name': 'location', 'type': 'STRING', 'description': '', 'required': False}], 'additional_properties': False}, {'label': 'ThreatActor', 'description': '', 'properties': [], 'additional_properties': True}, {'label': 'Ransomware', 'description': '', 'properties': [{'name': 'variant', 'type': 'STRING', 'description': '', 'required': False}], 'additional_properties': False}, {'label': 'Incident', 'description': '', 'properties': [{'name': 'date', 'type': 'DATE', 'description': '', 'required': False}, {'name': 'description', 'type': 'STRING', 'description': '', 'required': False}], 'additional_properties': False}), 'relationship_types': ({'label': 'TARGETS', 'description': '', 'properties': [], 'additional_properties': True}, {'label': 'USES', 'description': '', 'properties': [], 'additional_properties': True}, {'label': 'REPORTED_BY', 'description': '', 'properties': [], 'additional_properties': True}), 'patterns': (('ThreatActor', 'TARGETS', 'Facility'), ('ThreatActor', 'USES', 'Ransomware'), ('Incident', 'REPORTED_BY', 'Organization')), 'additional_node_types': False, 'additional_relationship_types': False, 'additional_patterns': False}}\n",
      "DEBUG:neo4j_graphrag.experimental.components.graph_pruning:PRUNING:: start_node_id='82e2fc31-59a8-42d6-a88c-faadfc63863d:4' end_node_id='82e2fc31-59a8-42d6-a88c-faadfc63863d:0' type='REPORTED_BY' properties={} embedding_properties=None not in the allowed patterns\n",
      "DEBUG:neo4j_graphrag.experimental.components.graph_pruning:PRUNING:: start_node_id='82e2fc31-59a8-42d6-a88c-faadfc63863d:4' end_node_id='82e2fc31-59a8-42d6-a88c-faadfc63863d:1' type='REPORTED_BY' properties={} embedding_properties=None not in the allowed patterns\n",
      "DEBUG:neo4j_graphrag.experimental.components.graph_pruning:PRUNING:: start_node_id='82e2fc31-59a8-42d6-a88c-faadfc63863d:4' end_node_id='82e2fc31-59a8-42d6-a88c-faadfc63863d:2' type='REPORTED_BY' properties={} embedding_properties=None not in the allowed patterns\n",
      "DEBUG:neo4j_graphrag.experimental.components.graph_pruning:PRUNING:: start_node_id='82e2fc31-59a8-42d6-a88c-faadfc63863d:4' end_node_id='82e2fc31-59a8-42d6-a88c-faadfc63863d:3' type='REPORTED_BY' properties={} embedding_properties=None not in the allowed patterns\n",
      "DEBUG:neo4j_graphrag.experimental.components.graph_pruning:PRUNING:: start_node_id='82e2fc31-59a8-42d6-a88c-faadfc63863d:6' end_node_id='82e2fc31-59a8-42d6-a88c-faadfc63863d:4' type='TARGETS' properties={} embedding_properties=None as one of 82e2fc31-59a8-42d6-a88c-faadfc63863d:6 or 82e2fc31-59a8-42d6-a88c-faadfc63863d:4 is not a valid node\n",
      "DEBUG:neo4j_graphrag.experimental.components.graph_pruning:PRUNING:: start_node_id='82e2fc31-59a8-42d6-a88c-faadfc63863d:6' end_node_id='82e2fc31-59a8-42d6-a88c-faadfc63863d:5' type='TARGETS' properties={} embedding_properties=None as one of 82e2fc31-59a8-42d6-a88c-faadfc63863d:6 or 82e2fc31-59a8-42d6-a88c-faadfc63863d:5 is not a valid node\n",
      "DEBUG:neo4j_graphrag.experimental.components.graph_pruning:PRUNING:: start_node_id='82e2fc31-59a8-42d6-a88c-faadfc63863d:6' end_node_id='82e2fc31-59a8-42d6-a88c-faadfc63863d:7' type='USES' properties={} embedding_properties=None as one of 82e2fc31-59a8-42d6-a88c-faadfc63863d:6 or 82e2fc31-59a8-42d6-a88c-faadfc63863d:7 is not a valid node\n",
      "DEBUG:neo4j_graphrag.experimental.components.graph_pruning:PRUNING:: start_node_id='2d2b405d-ee98-4cf8-b206-53a20439bb5f:0' end_node_id='2d2b405d-ee98-4cf8-b206-53a20439bb5f:2' type='USES' properties={} embedding_properties=None as one of 2d2b405d-ee98-4cf8-b206-53a20439bb5f:0 or 2d2b405d-ee98-4cf8-b206-53a20439bb5f:2 is not a valid node\n",
      "DEBUG:neo4j_graphrag.experimental.components.graph_pruning:PRUNING:: start_node_id='2d2b405d-ee98-4cf8-b206-53a20439bb5f:0' end_node_id='2d2b405d-ee98-4cf8-b206-53a20439bb5f:1' type='TARGETS' properties={} embedding_properties=None as one of 2d2b405d-ee98-4cf8-b206-53a20439bb5f:0 or 2d2b405d-ee98-4cf8-b206-53a20439bb5f:1 is not a valid node\n",
      "DEBUG:neo4j_graphrag.experimental.components.graph_pruning:PRUNING:: start_node_id='2d2b405d-ee98-4cf8-b206-53a20439bb5f:0' end_node_id='2d2b405d-ee98-4cf8-b206-53a20439bb5f:4' type='USES' properties={} embedding_properties=None as one of 2d2b405d-ee98-4cf8-b206-53a20439bb5f:0 or 2d2b405d-ee98-4cf8-b206-53a20439bb5f:4 is not a valid node\n",
      "DEBUG:neo4j_graphrag.experimental.components.graph_pruning:PRUNING:: start_node_id='2d2b405d-ee98-4cf8-b206-53a20439bb5f:0' end_node_id='2d2b405d-ee98-4cf8-b206-53a20439bb5f:3' type='TARGETS' properties={} embedding_properties=None as one of 2d2b405d-ee98-4cf8-b206-53a20439bb5f:0 or 2d2b405d-ee98-4cf8-b206-53a20439bb5f:3 is not a valid node\n",
      "DEBUG:neo4j_graphrag.experimental.components.graph_pruning:PRUNING:: start_node_id='2d2b405d-ee98-4cf8-b206-53a20439bb5f:0' end_node_id='2d2b405d-ee98-4cf8-b206-53a20439bb5f:6' type='USES' properties={} embedding_properties=None as one of 2d2b405d-ee98-4cf8-b206-53a20439bb5f:0 or 2d2b405d-ee98-4cf8-b206-53a20439bb5f:6 is not a valid node\n",
      "DEBUG:neo4j_graphrag.experimental.components.graph_pruning:PRUNING:: start_node_id='2d2b405d-ee98-4cf8-b206-53a20439bb5f:0' end_node_id='2d2b405d-ee98-4cf8-b206-53a20439bb5f:5' type='TARGETS' properties={} embedding_properties=None as one of 2d2b405d-ee98-4cf8-b206-53a20439bb5f:0 or 2d2b405d-ee98-4cf8-b206-53a20439bb5f:5 is not a valid node\n",
      "DEBUG:neo4j_graphrag.experimental.components.graph_pruning:PRUNING:: start_node_id='2d2b405d-ee98-4cf8-b206-53a20439bb5f:0' end_node_id='2d2b405d-ee98-4cf8-b206-53a20439bb5f:8' type='USES' properties={} embedding_properties=None as one of 2d2b405d-ee98-4cf8-b206-53a20439bb5f:0 or 2d2b405d-ee98-4cf8-b206-53a20439bb5f:8 is not a valid node\n",
      "DEBUG:neo4j_graphrag.experimental.components.graph_pruning:PRUNING:: start_node_id='2d2b405d-ee98-4cf8-b206-53a20439bb5f:0' end_node_id='2d2b405d-ee98-4cf8-b206-53a20439bb5f:7' type='TARGETS' properties={} embedding_properties=None as one of 2d2b405d-ee98-4cf8-b206-53a20439bb5f:0 or 2d2b405d-ee98-4cf8-b206-53a20439bb5f:7 is not a valid node\n",
      "DEBUG:neo4j_graphrag.experimental.components.graph_pruning:PRUNING:: start_node_id='2d2b405d-ee98-4cf8-b206-53a20439bb5f:0' end_node_id='2d2b405d-ee98-4cf8-b206-53a20439bb5f:9' type='TARGETS' properties={} embedding_properties=None as one of 2d2b405d-ee98-4cf8-b206-53a20439bb5f:0 or 2d2b405d-ee98-4cf8-b206-53a20439bb5f:9 is not a valid node\n",
      "DEBUG:neo4j_graphrag.experimental.components.graph_pruning:PRUNING:: start_node_id='4621e3b9-05cc-4507-a5b4-90c209fdc2e8:1' end_node_id='4621e3b9-05cc-4507-a5b4-90c209fdc2e8:0' type='TARGETS' properties={} embedding_properties=None as one of 4621e3b9-05cc-4507-a5b4-90c209fdc2e8:1 or 4621e3b9-05cc-4507-a5b4-90c209fdc2e8:0 is not a valid node\n",
      "DEBUG:neo4j_graphrag.experimental.components.graph_pruning:PRUNING:: start_node_id='4621e3b9-05cc-4507-a5b4-90c209fdc2e8:1' end_node_id='4621e3b9-05cc-4507-a5b4-90c209fdc2e8:2' type='USES' properties={} embedding_properties=None as one of 4621e3b9-05cc-4507-a5b4-90c209fdc2e8:1 or 4621e3b9-05cc-4507-a5b4-90c209fdc2e8:2 is not a valid node\n",
      "DEBUG:neo4j_graphrag.experimental.components.graph_pruning:PRUNING:: start_node_id='163bb146-20e5-4eb9-aa48-509d8b627563:1' end_node_id='163bb146-20e5-4eb9-aa48-509d8b627563:0' type='REPORTED_BY' properties={} embedding_properties=None not in the allowed patterns\n",
      "DEBUG:neo4j_graphrag.experimental.components.graph_pruning:PRUNING:: start_node_id='163bb146-20e5-4eb9-aa48-509d8b627563:5' end_node_id='163bb146-20e5-4eb9-aa48-509d8b627563:2' type='REPORTED_BY' properties={} embedding_properties=None not in the allowed patterns\n",
      "DEBUG:neo4j_graphrag.experimental.components.graph_pruning:PRUNING:: start_node_id='163bb146-20e5-4eb9-aa48-509d8b627563:5' end_node_id='163bb146-20e5-4eb9-aa48-509d8b627563:3' type='REPORTED_BY' properties={} embedding_properties=None not in the allowed patterns\n",
      "DEBUG:neo4j_graphrag.experimental.components.graph_pruning:PRUNING:: start_node_id='163bb146-20e5-4eb9-aa48-509d8b627563:5' end_node_id='163bb146-20e5-4eb9-aa48-509d8b627563:4' type='REPORTED_BY' properties={} embedding_properties=None not in the allowed patterns\n",
      "DEBUG:neo4j_graphrag.experimental.components.graph_pruning:PRUNING:: start_node_id='163bb146-20e5-4eb9-aa48-509d8b627563:6' end_node_id='163bb146-20e5-4eb9-aa48-509d8b627563:2' type='REPORTED_BY' properties={} embedding_properties=None not in the allowed patterns\n",
      "DEBUG:neo4j_graphrag.experimental.components.graph_pruning:PRUNING:: start_node_id='163bb146-20e5-4eb9-aa48-509d8b627563:6' end_node_id='163bb146-20e5-4eb9-aa48-509d8b627563:3' type='REPORTED_BY' properties={} embedding_properties=None not in the allowed patterns\n",
      "DEBUG:neo4j_graphrag.experimental.components.graph_pruning:PRUNING:: start_node_id='163bb146-20e5-4eb9-aa48-509d8b627563:6' end_node_id='163bb146-20e5-4eb9-aa48-509d8b627563:4' type='REPORTED_BY' properties={} embedding_properties=None not in the allowed patterns\n",
      "DEBUG:neo4j_graphrag.experimental.components.graph_pruning:PRUNING:: start_node_id='163bb146-20e5-4eb9-aa48-509d8b627563:8' end_node_id='163bb146-20e5-4eb9-aa48-509d8b627563:7' type='REPORTED_BY' properties={} embedding_properties=None not in the allowed patterns\n",
      "DEBUG:neo4j_graphrag.experimental.pipeline.pipeline:TASK FINISHED pruner in 0.011492875000840286 res={'status': <RunStatus.DONE: 'DONE'>, 'result': {'graph': {'nodes': [{'id': '92327205-455e-48f2-ba7a-b0b6e43e012b', 'label': 'Document', 'properties': {'path': './data/AA21-287A.pdf', 'createdAt': '2025-07-17T13:55:59.137942+00:00'}, 'embedding_properties': None}, {'id': '82e2fc31-59a8-42d6-a88c-faadfc63863d', 'label': 'Chunk', 'properties': {'text': '  \\n \\n \\n \\n  \\n   \\n \\nTo report suspicious or criminal activity related to information found in this Joint Cybersecurity Advisory, contact \\nyour local FBI field office at www.fbi.gov/contact -us/field-off... (3800 chars)', 'index': 0}, 'embedding_properties': {'embedding': [0.011211024597287178, -0.016439108178019524, -0.012518045492470264, -0.023791974410414696, -0.0035488763824105263, '... (1531 items)']}}, {'id': '2d2b405d-ee98-4cf8-b206-53a20439bb5f', 'label': 'Chunk', 'properties': {'text': 'can gain access—either \\npurposefully or inadvertently—to OT assets after the IT network has been \\ncompromised through spearphishing and other techniques. \\no Exploitation of internet-connected services... (3799 chars)', 'index': 1}, 'embedding_properties': {'embedding': [0.00998564250767231, -0.02557898499071598, 0.0016944321105256677, -0.021123744547367096, -0.026956316083669662, '... (1531 items)']}}, {'id': '4621e3b9-05cc-4507-a5b4-90c209fdc2e8', 'label': 'Chunk', 'properties': {'text': 'for monitoring WWS should check for the following suspicious activities and \\nindicators, which may be indicative of threat actor activity: \\n• Inability of WWS facility personnel to access SCADA system... (3792 chars)', 'index': 2}, 'embedding_properties': {'embedding': [0.0029380908235907555, -0.021595142781734467, 0.000977608491666615, -0.022606099024415016, -0.02900882065296173, '... (1531 items)']}}, {'id': '163bb146-20e5-4eb9-aa48-509d8b627563', 'label': 'Chunk', 'properties': {'text': '\\nAgency’s (EPA) Cybersecurity Incident Action Checklist as well as the Ransomware \\nResponse Checklist on p. 11 of the CISA-Multi-State Information Sharing and Analysis Center \\n(MS-ISAC) Joint Ransomwa... (3796 chars)', 'index': 3}, 'embedding_properties': {'embedding': [0.000396638730308041, -0.014622366987168789, -0.009713026694953442, -0.022595642134547234, -0.017017167061567307, '... (1531 items)']}}, '... (50 items)'], 'relationships': [{'start_node_id': '82e2fc31-59a8-42d6-a88c-faadfc63863d', 'end_node_id': '92327205-455e-48f2-ba7a-b0b6e43e012b', 'type': 'FROM_DOCUMENT', 'properties': {}, 'embedding_properties': None}, {'start_node_id': '82e2fc31-59a8-42d6-a88c-faadfc63863d', 'end_node_id': '2d2b405d-ee98-4cf8-b206-53a20439bb5f', 'type': 'NEXT_CHUNK', 'properties': {}, 'embedding_properties': None}, {'start_node_id': '2d2b405d-ee98-4cf8-b206-53a20439bb5f', 'end_node_id': '92327205-455e-48f2-ba7a-b0b6e43e012b', 'type': 'FROM_DOCUMENT', 'properties': {}, 'embedding_properties': None}, {'start_node_id': '2d2b405d-ee98-4cf8-b206-53a20439bb5f', 'end_node_id': '4621e3b9-05cc-4507-a5b4-90c209fdc2e8', 'type': 'NEXT_CHUNK', 'properties': {}, 'embedding_properties': None}, {'start_node_id': '4621e3b9-05cc-4507-a5b4-90c209fdc2e8', 'end_node_id': '92327205-455e-48f2-ba7a-b0b6e43e012b', 'type': 'FROM_DOCUMENT', 'properties': {}, 'embedding_properties': None}, '... (84 items)']}, 'pruning_stats': {'pruned_nodes': [{'label': 'ThreatActor', 'item': {'id': '82e2fc31-59a8-42d6-a88c-faadfc63863d:6', 'label': 'ThreatActor', 'properties': {}, 'embedding_properties': None}, 'pruned_reason': 'NO_PROPERTY_LEFT', 'metadata': {}}, {'label': 'ThreatActor', 'item': {'id': '2d2b405d-ee98-4cf8-b206-53a20439bb5f:0', 'label': 'ThreatActor', 'properties': {}, 'embedding_properties': None}, 'pruned_reason': 'NO_PROPERTY_LEFT', 'metadata': {}}, {'label': 'ThreatActor', 'item': {'id': '4621e3b9-05cc-4507-a5b4-90c209fdc2e8:1', 'label': 'ThreatActor', 'properties': {}, 'embedding_properties': None}, 'pruned_reason': 'NO_PROPERTY_LEFT', 'metadata': {}}], 'pruned_relationships': [{'label': 'REPORTED_BY', 'item': {'start_node_id': '82e2fc31-59a8-42d6-a88c-faadfc63863d:4', 'end_node_id': '82e2fc31-59a8-42d6-a88c-faadfc63863d:0', 'type': 'REPORTED_BY', 'properties': {}, 'embedding_properties': None}, 'pruned_reason': 'INVALID_PATTERN', 'metadata': {}}, {'label': 'REPORTED_BY', 'item': {'start_node_id': '82e2fc31-59a8-42d6-a88c-faadfc63863d:4', 'end_node_id': '82e2fc31-59a8-42d6-a88c-faadfc63863d:1', 'type': 'REPORTED_BY', 'properties': {}, 'embedding_properties': None}, 'pruned_reason': 'INVALID_PATTERN', 'metadata': {}}, {'label': 'REPORTED_BY', 'item': {'start_node_id': '82e2fc31-59a8-42d6-a88c-faadfc63863d:4', 'end_node_id': '82e2fc31-59a8-42d6-a88c-faadfc63863d:2', 'type': 'REPORTED_BY', 'properties': {}, 'embedding_properties': None}, 'pruned_reason': 'INVALID_PATTERN', 'metadata': {}}, {'label': 'REPORTED_BY', 'item': {'start_node_id': '82e2fc31-59a8-42d6-a88c-faadfc63863d:4', 'end_node_id': '82e2fc31-59a8-42d6-a88c-faadfc63863d:3', 'type': 'REPORTED_BY', 'properties': {}, 'embedding_properties': None}, 'pruned_reason': 'INVALID_PATTERN', 'metadata': {}}, {'label': 'TARGETS', 'item': {'start_node_id': '82e2fc31-59a8-42d6-a88c-faadfc63863d:6', 'end_node_id': '82e2fc31-59a8-42d6-a88c-faadfc63863d:4', 'type': 'TARGETS', 'properties': {}, 'embedding_properties': None}, 'pruned_reason': 'INVALID_START_OR_END_NODE', 'metadata': {}}, '... (21 items)'], 'pruned_properties': []}}, 'timestamp': datetime.datetime(2025, 7, 17, 13, 56, 14, 933633, tzinfo=datetime.timezone.utc)}\n",
      "DEBUG:neo4j_graphrag.experimental.pipeline.orchestrator:ORCHESTRATOR 63d29ef2-9c1a-4c7c-92fc-015c54fad0f1: enqueuing next task: writer\n",
      "DEBUG:neo4j_graphrag.experimental.pipeline.pipeline:TASK START self.name='writer' input={'graph': {'nodes': [{'id': '92327205-455e-48f2-ba7a-b0b6e43e012b', 'label': 'Document', 'properties': {'path': './data/AA21-287A.pdf', 'createdAt': '2025-07-17T13:55:59.137942+00:00'}, 'embedding_properties': None}, {'id': '82e2fc31-59a8-42d6-a88c-faadfc63863d', 'label': 'Chunk', 'properties': {'text': '  \\n \\n \\n \\n  \\n   \\n \\nTo report suspicious or criminal activity related to information found in this Joint Cybersecurity Advisory, contact \\nyour local FBI field office at www.fbi.gov/contact -us/field-off... (3800 chars)', 'index': 0}, 'embedding_properties': {'embedding': [0.011211024597287178, -0.016439108178019524, -0.012518045492470264, -0.023791974410414696, -0.0035488763824105263, '... (1531 items)']}}, {'id': '2d2b405d-ee98-4cf8-b206-53a20439bb5f', 'label': 'Chunk', 'properties': {'text': 'can gain access—either \\npurposefully or inadvertently—to OT assets after the IT network has been \\ncompromised through spearphishing and other techniques. \\no Exploitation of internet-connected services... (3799 chars)', 'index': 1}, 'embedding_properties': {'embedding': [0.00998564250767231, -0.02557898499071598, 0.0016944321105256677, -0.021123744547367096, -0.026956316083669662, '... (1531 items)']}}, {'id': '4621e3b9-05cc-4507-a5b4-90c209fdc2e8', 'label': 'Chunk', 'properties': {'text': 'for monitoring WWS should check for the following suspicious activities and \\nindicators, which may be indicative of threat actor activity: \\n• Inability of WWS facility personnel to access SCADA system... (3792 chars)', 'index': 2}, 'embedding_properties': {'embedding': [0.0029380908235907555, -0.021595142781734467, 0.000977608491666615, -0.022606099024415016, -0.02900882065296173, '... (1531 items)']}}, {'id': '163bb146-20e5-4eb9-aa48-509d8b627563', 'label': 'Chunk', 'properties': {'text': '\\nAgency’s (EPA) Cybersecurity Incident Action Checklist as well as the Ransomware \\nResponse Checklist on p. 11 of the CISA-Multi-State Information Sharing and Analysis Center \\n(MS-ISAC) Joint Ransomwa... (3796 chars)', 'index': 3}, 'embedding_properties': {'embedding': [0.000396638730308041, -0.014622366987168789, -0.009713026694953442, -0.022595642134547234, -0.017017167061567307, '... (1531 items)']}}, '... (50 items)'], 'relationships': [{'start_node_id': '82e2fc31-59a8-42d6-a88c-faadfc63863d', 'end_node_id': '92327205-455e-48f2-ba7a-b0b6e43e012b', 'type': 'FROM_DOCUMENT', 'properties': {}, 'embedding_properties': None}, {'start_node_id': '82e2fc31-59a8-42d6-a88c-faadfc63863d', 'end_node_id': '2d2b405d-ee98-4cf8-b206-53a20439bb5f', 'type': 'NEXT_CHUNK', 'properties': {}, 'embedding_properties': None}, {'start_node_id': '2d2b405d-ee98-4cf8-b206-53a20439bb5f', 'end_node_id': '92327205-455e-48f2-ba7a-b0b6e43e012b', 'type': 'FROM_DOCUMENT', 'properties': {}, 'embedding_properties': None}, {'start_node_id': '2d2b405d-ee98-4cf8-b206-53a20439bb5f', 'end_node_id': '4621e3b9-05cc-4507-a5b4-90c209fdc2e8', 'type': 'NEXT_CHUNK', 'properties': {}, 'embedding_properties': None}, {'start_node_id': '4621e3b9-05cc-4507-a5b4-90c209fdc2e8', 'end_node_id': '92327205-455e-48f2-ba7a-b0b6e43e012b', 'type': 'FROM_DOCUMENT', 'properties': {}, 'embedding_properties': None}, '... (84 items)']}}\n",
      "DEBUG:neo4j_graphrag.experimental.pipeline.pipeline:TASK FINISHED writer in 0.7096484579997195 res={'status': <RunStatus.DONE: 'DONE'>, 'result': {'status': 'SUCCESS', 'metadata': {'node_count': 55, 'relationship_count': 89}}, 'timestamp': datetime.datetime(2025, 7, 17, 13, 56, 15, 646291, tzinfo=datetime.timezone.utc)}\n",
      "DEBUG:neo4j_graphrag.experimental.pipeline.orchestrator:ORCHESTRATOR 63d29ef2-9c1a-4c7c-92fc-015c54fad0f1: enqueuing next task: resolver\n",
      "DEBUG:neo4j_graphrag.experimental.pipeline.pipeline:TASK START self.name='resolver' input={}\n",
      "DEBUG:neo4j_graphrag.experimental.pipeline.pipeline:TASK FINISHED resolver in 0.19396087499990244 res={'status': <RunStatus.DONE: 'DONE'>, 'result': {'number_of_nodes_to_resolve': 93, 'number_of_created_nodes': 20}, 'timestamp': datetime.datetime(2025, 7, 17, 13, 56, 15, 843350, tzinfo=datetime.timezone.utc)}\n",
      "DEBUG:neo4j_graphrag.experimental.pipeline.pipeline:PIPELINE FINISHED 63d29ef2-9c1a-4c7c-92fc-015c54fad0f1 in 26.773360874998616s\n"
     ]
    },
    {
     "data": {
      "text/plain": "PipelineResult(run_id='63d29ef2-9c1a-4c7c-92fc-015c54fad0f1', result={'resolver': {'number_of_nodes_to_resolve': 93, 'number_of_created_nodes': 20}})"
     },
     "execution_count": 6,
     "metadata": {},
     "output_type": "execute_result"
    }
   ],
   "source": [
    "kg_builder = SimpleKGPipeline(\n",
    "    llm=llm,\n",
    "    driver=driver,\n",
    "    embedder=embedder,\n",
    "    from_pdf=True,\n",
    ")\n",
    "\n",
    "# Run the pipeline on one PDF file\n",
    "await kg_builder.run_async(file_path=file_path)"
   ]
  },
  {
   "cell_type": "code",
   "execution_count": null,
   "id": "b2c40fd28d3f967d",
   "metadata": {
    "collapsed": false
   },
   "outputs": [],
   "source": []
  },
  {
   "metadata": {},
   "cell_type": "markdown",
   "source": [
    "## Customize schema\n",
    "\n",
    "### Start from automatic schema extraction"
   ],
   "id": "219e98bb55635840"
  },
  {
   "metadata": {
    "ExecuteTime": {
     "end_time": "2025-09-05T06:55:15.436185Z",
     "start_time": "2025-09-05T06:55:15.344135Z"
    }
   },
   "cell_type": "code",
   "source": [
    "from neo4j_graphrag.experimental.components.pdf_loader import PdfLoader\n",
    "from neo4j_graphrag.experimental.components.schema import SchemaFromTextExtractor, GraphSchema"
   ],
   "id": "bab250d2e397d62a",
   "outputs": [],
   "execution_count": 2
  },
  {
   "metadata": {},
   "cell_type": "code",
   "outputs": [],
   "execution_count": null,
   "source": [
    "loader = PdfLoader()\n",
    "document = await loader.run(file_path)"
   ],
   "id": "d6a37f47fa112a7b"
  },
  {
   "metadata": {},
   "cell_type": "code",
   "outputs": [],
   "execution_count": null,
   "source": [
    "schema_builder = SchemaFromTextExtractor(llm)\n",
    "schema = await schema_builder.run(text=document.text)\n",
    "schema"
   ],
   "id": "d869da6eec692fcf"
  },
  {
   "metadata": {},
   "cell_type": "code",
   "outputs": [],
   "execution_count": null,
   "source": [
    "from neo4j_graphrag.experimental.utils.schema import schema_visualization\n",
    "schema_visualization(schema)"
   ],
   "id": "ea9f38a87a2c811c"
  },
  {
   "metadata": {},
   "cell_type": "code",
   "outputs": [],
   "execution_count": null,
   "source": "schema.save(\"my_schema.json\")",
   "id": "4dc9f8e512d73cef"
  },
  {
   "metadata": {},
   "cell_type": "markdown",
   "source": "### Make changes to JSON schema and reload it",
   "id": "3244036fd508bdd6"
  },
  {
   "metadata": {},
   "cell_type": "code",
   "outputs": [],
   "execution_count": null,
   "source": [
    "schema = GraphSchema.from_file(\"my_schema.json\")\n",
    "\n",
    "kg_builder = SimpleKGPipeline(\n",
    "    llm=llm,\n",
    "    driver=driver,\n",
    "    embedder=embedder,\n",
    "    schema=schema, # USE OUR SCHEMA\n",
    "    from_pdf=False,  # RUN FROM ALREADY EXTRACTED TEXT\n",
    ")\n",
    "\n",
    "# Run the pipeline on the extracted text\n",
    "await kg_builder.run_async(text=document.text)"
   ],
   "id": "e0574df933ce7bd9"
  }
 ],
 "metadata": {
  "kernelspec": {
   "display_name": "Python 3",
   "language": "python",
   "name": "python3"
  },
  "language_info": {
   "codemirror_mode": {
    "name": "ipython",
    "version": 2
   },
   "file_extension": ".py",
   "mimetype": "text/x-python",
   "name": "python",
   "nbconvert_exporter": "python",
   "pygments_lexer": "ipython2",
   "version": "2.7.6"
  }
 },
 "nbformat": 4,
 "nbformat_minor": 5
}
