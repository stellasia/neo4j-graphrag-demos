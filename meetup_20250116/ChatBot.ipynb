{
 "cells": [
  {
   "metadata": {},
   "cell_type": "markdown",
   "source": "# ChatBot",
   "id": "b12db9fa57af3c84"
  },
  {
   "metadata": {
    "ExecuteTime": {
     "end_time": "2025-01-16T18:19:03.756641Z",
     "start_time": "2025-01-16T18:19:03.258229Z"
    }
   },
   "cell_type": "code",
   "source": [
    "import os\n",
    "import neo4j\n",
    "from dotenv import load_dotenv"
   ],
   "id": "25f61e3520efdf68",
   "outputs": [],
   "execution_count": 1
  },
  {
   "metadata": {
    "ExecuteTime": {
     "end_time": "2025-01-16T18:19:03.775442Z",
     "start_time": "2025-01-16T18:19:03.767169Z"
    }
   },
   "cell_type": "code",
   "source": "load_dotenv()",
   "id": "2629808c15da689f",
   "outputs": [
    {
     "data": {
      "text/plain": [
       "True"
      ]
     },
     "execution_count": 2,
     "metadata": {},
     "output_type": "execute_result"
    }
   ],
   "execution_count": 2
  },
  {
   "metadata": {
    "ExecuteTime": {
     "end_time": "2025-01-16T18:19:03.887641Z",
     "start_time": "2025-01-16T18:19:03.884102Z"
    }
   },
   "cell_type": "code",
   "source": [
    "driver = neo4j.GraphDatabase.driver(\n",
    "    os.environ.get(\"NEO4J_URL\"),\n",
    "    auth=(os.environ.get(\"NEO4J_USER\"), os.environ.get(\"NEO4J_PASSWORD\")),\n",
    ")"
   ],
   "id": "9d70880d94dfa635",
   "outputs": [],
   "execution_count": 3
  },
  {
   "metadata": {
    "ExecuteTime": {
     "end_time": "2025-01-16T18:19:04.444765Z",
     "start_time": "2025-01-16T18:19:03.987761Z"
    }
   },
   "cell_type": "code",
   "source": [
    "from neo4j_graphrag.llm import OpenAILLM\n",
    "from neo4j_graphrag.embeddings import OpenAIEmbeddings"
   ],
   "id": "6aec09dce902a750",
   "outputs": [],
   "execution_count": 4
  },
  {
   "metadata": {
    "ExecuteTime": {
     "end_time": "2025-01-16T18:19:05.148390Z",
     "start_time": "2025-01-16T18:19:04.610316Z"
    }
   },
   "cell_type": "code",
   "source": [
    "llm = OpenAILLM(model_name=\"gpt-4o\")\n",
    "embedder = OpenAIEmbeddings(model=\"text-embedding-ada-002\")"
   ],
   "id": "74bd0d1304675c5e",
   "outputs": [],
   "execution_count": 5
  },
  {
   "metadata": {
    "ExecuteTime": {
     "end_time": "2025-01-16T18:19:05.323154Z",
     "start_time": "2025-01-16T18:19:05.256715Z"
    }
   },
   "cell_type": "code",
   "source": "from neo4j_graphrag.indexes import create_vector_index",
   "id": "e622dd8b023a2969",
   "outputs": [],
   "execution_count": 6
  },
  {
   "metadata": {
    "ExecuteTime": {
     "end_time": "2025-01-16T18:19:05.835278Z",
     "start_time": "2025-01-16T18:19:05.830197Z"
    }
   },
   "cell_type": "code",
   "source": "VECTOR_INDEX_NAME = \"chunk-embeddings\"",
   "id": "b5e12c1bb19f37fe",
   "outputs": [],
   "execution_count": 7
  },
  {
   "metadata": {
    "ExecuteTime": {
     "end_time": "2025-01-15T17:28:57.441811Z",
     "start_time": "2025-01-15T17:28:57.427328Z"
    }
   },
   "cell_type": "code",
   "source": [
    "create_vector_index(\n",
    "    driver,\n",
    "    name=VECTOR_INDEX_NAME,\n",
    "    label=\"Chunk\",\n",
    "    embedding_property=\"embedding\",\n",
    "    dimensions=1536,\n",
    "    similarity_fn=\"cosine\",\n",
    "    fail_if_exists=False,\n",
    ")\n",
    "# MATCH (c:Chunk) RETURN size(c.embedding) LIMIT 1"
   ],
   "id": "dba6171fad6f1f9c",
   "outputs": [
    {
     "data": {
      "text/plain": [
       "EagerResult(records=[], summary=<neo4j._work.summary.ResultSummary object at 0x785669806bd0>, keys=[])"
      ]
     },
     "execution_count": 9,
     "metadata": {},
     "output_type": "execute_result"
    }
   ],
   "execution_count": 9
  },
  {
   "metadata": {
    "ExecuteTime": {
     "end_time": "2025-01-16T18:19:09.896220Z",
     "start_time": "2025-01-16T18:19:09.868571Z"
    }
   },
   "cell_type": "code",
   "source": [
    "from neo4j_graphrag.retrievers import VectorRetriever, VectorCypherRetriever\n",
    "from neo4j_graphrag.generation import GraphRAG, RagTemplate"
   ],
   "id": "a7055c7c7d71b85c",
   "outputs": [],
   "execution_count": 8
  },
  {
   "metadata": {
    "ExecuteTime": {
     "end_time": "2025-01-16T18:19:35.585963Z",
     "start_time": "2025-01-16T18:19:35.437864Z"
    }
   },
   "cell_type": "code",
   "source": [
    "retriever = VectorRetriever(\n",
    "    driver,\n",
    "    index_name=VECTOR_INDEX_NAME,\n",
    "    embedder=embedder,\n",
    ")"
   ],
   "id": "df5a8b127d4f5c4e",
   "outputs": [],
   "execution_count": 9
  },
  {
   "metadata": {
    "ExecuteTime": {
     "end_time": "2025-01-15T17:30:02.434785Z",
     "start_time": "2025-01-15T17:30:01.565087Z"
    }
   },
   "cell_type": "code",
   "source": "retriever.search(query_text=\"where is alice living?\", top_k=1)",
   "id": "94476a4347b7212",
   "outputs": [
    {
     "data": {
      "text/plain": [
       "RetrieverResult(items=[RetrieverResultItem(content=\"{'id': 'a3d6db06-c35d-4c87-835e-51dbf0737637', 'index': 0, 'text': 'Alice, a talented software engineer, resides in Sweden and works for Neo4j, a Swedish and US-\\\\nbased company renowned for its innovative graph database technology. She has been part of the \\\\nteam for several years, contributing to various projects and strengthening her expertise in data \\\\nmanagement and graph theory. Alice takes pride in her role at Neo4j, where collaboration and \\\\ncutting-edge proble', 'embedding': None}\", metadata={'score': 0.9147700071334839, 'nodeLabels': ['Chunk', '__KGBuilder__'], 'id': '4:a7411f47-9112-4baf-995a-de5abe0a4a7e:40'})], metadata={'__retriever': 'VectorRetriever'})"
      ]
     },
     "execution_count": 14,
     "metadata": {},
     "output_type": "execute_result"
    }
   ],
   "execution_count": 14
  },
  {
   "metadata": {
    "ExecuteTime": {
     "end_time": "2025-01-15T17:30:25.978493Z",
     "start_time": "2025-01-15T17:30:25.974722Z"
    }
   },
   "cell_type": "code",
   "source": [
    "graph_rag = GraphRAG(\n",
    "    llm=llm,\n",
    "    retriever=retriever,\n",
    "    # prompt_template=RagTemplate(system_instructions=\"..\")\n",
    ")"
   ],
   "id": "b9009bfbf3275ae4",
   "outputs": [],
   "execution_count": 15
  },
  {
   "metadata": {
    "ExecuteTime": {
     "end_time": "2025-01-15T17:31:09.231788Z",
     "start_time": "2025-01-15T17:31:07.096722Z"
    }
   },
   "cell_type": "code",
   "source": [
    "result = graph_rag.search(query_text=\"where is alice living?\", retriever_config={\"top_k\": 1})\n",
    "result.answer"
   ],
   "id": "c66adcc57d9ba590",
   "outputs": [
    {
     "data": {
      "text/plain": [
       "'Alice is living in Sweden.'"
      ]
     },
     "execution_count": 18,
     "metadata": {},
     "output_type": "execute_result"
    }
   ],
   "execution_count": 18
  },
  {
   "metadata": {
    "ExecuteTime": {
     "end_time": "2025-01-15T17:31:23.766194Z",
     "start_time": "2025-01-15T17:31:20.967905Z"
    }
   },
   "cell_type": "code",
   "source": [
    "result = graph_rag.search(query_text=\"who are alice's co-workers?\", retriever_config={\"top_k\": 1})\n",
    "result.answer"
   ],
   "id": "98e25ddcbd15a462",
   "outputs": [
    {
     "data": {
      "text/plain": [
       "\"The context does not provide specific names or details about Alice's co-workers at Neo4j. It only mentions that she works at Neo4j, a company renowned for its graph database technology.\""
      ]
     },
     "execution_count": 19,
     "metadata": {},
     "output_type": "execute_result"
    }
   ],
   "execution_count": 19
  },
  {
   "metadata": {
    "ExecuteTime": {
     "end_time": "2025-01-15T17:33:18.247697Z",
     "start_time": "2025-01-15T17:33:18.243100Z"
    }
   },
   "cell_type": "code",
   "source": [
    "# result = graph_rag.search(query_text=\"who are alice's co-workers?\", retriever_config={\"top_k\": 2})\n",
    "# result.answer"
   ],
   "id": "756d983fd873f848",
   "outputs": [],
   "execution_count": 21
  },
  {
   "metadata": {
    "ExecuteTime": {
     "end_time": "2025-01-16T12:03:45.157989Z",
     "start_time": "2025-01-16T12:03:43.026552Z"
    }
   },
   "cell_type": "code",
   "source": [
    "retrieval_query = \"\"\"\n",
    "WITH node as chunk\n",
    "MATCH (chunk)<-[:FROM_CHUNK]-(e:__Entity__)\n",
    "OPTIONAL MATCH (e)-[r]->(middle:__Entity__)<-[r2]-(other:__Entity__) WHERE e <> other\n",
    "RETURN e, type(r), middle, type(r2), other\n",
    "\"\"\"\n",
    "\n",
    "retriever = VectorCypherRetriever(\n",
    "    driver,\n",
    "    index_name=VECTOR_INDEX_NAME,\n",
    "    embedder=embedder,\n",
    "    retrieval_query=retrieval_query,\n",
    ")"
   ],
   "id": "7b0829561864d288",
   "outputs": [],
   "execution_count": 9
  },
  {
   "metadata": {
    "ExecuteTime": {
     "end_time": "2025-01-15T17:38:31.089351Z",
     "start_time": "2025-01-15T17:38:30.587696Z"
    }
   },
   "cell_type": "code",
   "source": "retriever.search(query_text=\"where is alice living?\", top_k=1)",
   "id": "453c3e77fc69c252",
   "outputs": [
    {
     "data": {
      "text/plain": [
       "RetrieverResult(items=[RetrieverResultItem(content=\"<Record e=<Node element_id='4:a7411f47-9112-4baf-995a-de5abe0a4a7e:45' labels=frozenset({'__Entity__', '__KGBuilder__', 'Company'}) properties={'chunk_index': 0, 'name': 'Neo4j', 'id': 'a3d6db06-c35d-4c87-835e-51dbf0737637:2'}> type(r)='LOCATED_IN' middle=<Node element_id='4:a7411f47-9112-4baf-995a-de5abe0a4a7e:44' labels=frozenset({'__Entity__', '__KGBuilder__', 'Country'}) properties={'chunk_index': 0, 'name': 'Sweden', 'id': 'a3d6db06-c35d-4c87-835e-51dbf0737637:1'}> type(r2)='LOCATED_IN' other=<Node element_id='4:a7411f47-9112-4baf-995a-de5abe0a4a7e:43' labels=frozenset({'__Entity__', '__KGBuilder__', 'Person'}) properties={'chunk_index': 0, 'name': 'Alice', 'id': 'a3d6db06-c35d-4c87-835e-51dbf0737637:0'}>>\", metadata=None), RetrieverResultItem(content=\"<Record e=<Node element_id='4:a7411f47-9112-4baf-995a-de5abe0a4a7e:43' labels=frozenset({'__Entity__', '__KGBuilder__', 'Person'}) properties={'chunk_index': 0, 'name': 'Alice', 'id': 'a3d6db06-c35d-4c87-835e-51dbf0737637:0'}> type(r)='LOCATED_IN' middle=<Node element_id='4:a7411f47-9112-4baf-995a-de5abe0a4a7e:44' labels=frozenset({'__Entity__', '__KGBuilder__', 'Country'}) properties={'chunk_index': 0, 'name': 'Sweden', 'id': 'a3d6db06-c35d-4c87-835e-51dbf0737637:1'}> type(r2)='LOCATED_IN' other=<Node element_id='4:a7411f47-9112-4baf-995a-de5abe0a4a7e:45' labels=frozenset({'__Entity__', '__KGBuilder__', 'Company'}) properties={'chunk_index': 0, 'name': 'Neo4j', 'id': 'a3d6db06-c35d-4c87-835e-51dbf0737637:2'}>>\", metadata=None), RetrieverResultItem(content=\"<Record e=<Node element_id='4:a7411f47-9112-4baf-995a-de5abe0a4a7e:43' labels=frozenset({'__Entity__', '__KGBuilder__', 'Person'}) properties={'chunk_index': 0, 'name': 'Alice', 'id': 'a3d6db06-c35d-4c87-835e-51dbf0737637:0'}> type(r)='WORKS_FOR' middle=<Node element_id='4:a7411f47-9112-4baf-995a-de5abe0a4a7e:45' labels=frozenset({'__Entity__', '__KGBuilder__', 'Company'}) properties={'chunk_index': 0, 'name': 'Neo4j', 'id': 'a3d6db06-c35d-4c87-835e-51dbf0737637:2'}> type(r2)='WORKS_FOR' other=<Node element_id='4:a7411f47-9112-4baf-995a-de5abe0a4a7e:46' labels=frozenset({'__Entity__', '__KGBuilder__', 'Person'}) properties={'chunk_index': 1, 'name': 'Bob', 'id': 'ce443f44-4d7c-48f6-90cb-56f66e87e0a7:0'}>>\", metadata=None), RetrieverResultItem(content=\"<Record e=<Node element_id='4:a7411f47-9112-4baf-995a-de5abe0a4a7e:44' labels=frozenset({'__Entity__', '__KGBuilder__', 'Country'}) properties={'chunk_index': 0, 'name': 'Sweden', 'id': 'a3d6db06-c35d-4c87-835e-51dbf0737637:1'}> type(r)=None middle=None type(r2)=None other=None>\", metadata=None)], metadata={'__retriever': 'VectorCypherRetriever'})"
      ]
     },
     "execution_count": 32,
     "metadata": {},
     "output_type": "execute_result"
    }
   ],
   "execution_count": 32
  },
  {
   "metadata": {
    "ExecuteTime": {
     "end_time": "2025-01-16T12:03:50.083815Z",
     "start_time": "2025-01-16T12:03:46.810332Z"
    }
   },
   "cell_type": "code",
   "source": [
    "graph_rag = GraphRAG(\n",
    "    llm=llm,\n",
    "    retriever=retriever,\n",
    ")\n",
    "result = graph_rag.search(query_text=\"who are alice's co-workers?\", retriever_config={\"top_k\": 1})\n",
    "result.answer"
   ],
   "id": "c6ce0b0e1401d2ae",
   "outputs": [
    {
     "data": {
      "text/plain": [
       "\"Alice's co-worker is Bob, as both work for the company Neo4j.\""
      ]
     },
     "execution_count": 10,
     "metadata": {},
     "output_type": "execute_result"
    }
   ],
   "execution_count": 10
  },
  {
   "metadata": {},
   "cell_type": "code",
   "outputs": [],
   "execution_count": null,
   "source": "",
   "id": "1c579e2e9e2ec52"
  },
  {
   "metadata": {},
   "cell_type": "code",
   "outputs": [],
   "execution_count": null,
   "source": "",
   "id": "89f80b9abad418af"
  },
  {
   "metadata": {},
   "cell_type": "code",
   "outputs": [],
   "execution_count": null,
   "source": "",
   "id": "d5a9ebee511707c5"
  },
  {
   "metadata": {
    "ExecuteTime": {
     "end_time": "2025-01-16T12:06:10.779186Z",
     "start_time": "2025-01-16T12:06:07.565234Z"
    }
   },
   "cell_type": "code",
   "source": [
    "history = [\n",
    "    {\n",
    "        \"role\": \"user\",\n",
    "        \"content\": \"who are alice's co-workers?\",\n",
    "    },\n",
    "    {\n",
    "        \"role\": \"assistant\",\n",
    "        \"content\": result.answer,\n",
    "    }\n",
    "]\n",
    "graph_rag.search(\n",
    "    \"where is she living?\",\n",
    "    retriever_config={\"top_k\": 1},\n",
    "    message_history=history,\n",
    ")"
   ],
   "id": "ab90b783912117fa",
   "outputs": [
    {
     "data": {
      "text/plain": [
       "RagResultModel(answer='Alice is living in Sweden.', retriever_result=None)"
      ]
     },
     "execution_count": 16,
     "metadata": {},
     "output_type": "execute_result"
    }
   ],
   "execution_count": 16
  },
  {
   "metadata": {},
   "cell_type": "code",
   "outputs": [],
   "execution_count": null,
   "source": "",
   "id": "2ad999cc2fa8ff36"
  }
 ],
 "metadata": {
  "kernelspec": {
   "display_name": "Python 3",
   "language": "python",
   "name": "python3"
  },
  "language_info": {
   "codemirror_mode": {
    "name": "ipython",
    "version": 2
   },
   "file_extension": ".py",
   "mimetype": "text/x-python",
   "name": "python",
   "nbconvert_exporter": "python",
   "pygments_lexer": "ipython2",
   "version": "2.7.6"
  }
 },
 "nbformat": 4,
 "nbformat_minor": 5
}
