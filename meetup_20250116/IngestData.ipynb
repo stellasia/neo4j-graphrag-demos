{
 "cells": [
  {
   "metadata": {},
   "cell_type": "markdown",
   "source": [
    "# Knowledge Graph Builder\n",
    "\n",
    "https://neo4j.com/docs/neo4j-graphrag-python/current/user_guide_kg_builder.html\n",
    "\n"
   ],
   "id": "269f0d423adf0389"
  },
  {
   "metadata": {
    "collapsed": true,
    "ExecuteTime": {
     "end_time": "2025-01-16T18:15:38.056741Z",
     "start_time": "2025-01-16T18:15:38.051232Z"
    }
   },
   "cell_type": "code",
   "source": [
    "import os\n",
    "\n",
    "import neo4j\n",
    "\n",
    "from dotenv import load_dotenv\n",
    "\n",
    "from neo4j_graphrag.llm import OpenAILLM, MistralAILLM, OllamaLLM\n",
    "from neo4j_graphrag.embeddings import OpenAIEmbeddings, MistralAIEmbeddings, OllamaEmbeddings\n",
    "from neo4j_graphrag.experimental.pipeline.kg_builder import SimpleKGPipeline\n",
    "from neo4j_graphrag.experimental.components.text_splitters.fixed_size_splitter import FixedSizeSplitter"
   ],
   "id": "initial_id",
   "outputs": [],
   "execution_count": 3
  },
  {
   "metadata": {
    "ExecuteTime": {
     "end_time": "2025-01-16T18:15:39.029838Z",
     "start_time": "2025-01-16T18:15:39.018226Z"
    }
   },
   "cell_type": "code",
   "source": "load_dotenv()",
   "id": "4b81d9e9e3a42ccc",
   "outputs": [
    {
     "data": {
      "text/plain": [
       "True"
      ]
     },
     "execution_count": 4,
     "metadata": {},
     "output_type": "execute_result"
    }
   ],
   "execution_count": 4
  },
  {
   "metadata": {},
   "cell_type": "raw",
   "source": [
    "NEO4J_URL=\n",
    "NEO4J_USER=\n",
    "NEO4J_PASSWORD=\n",
    "OPENAI_API_KEY=\n",
    "MISTRAL_API_KEY="
   ],
   "id": "f7074314a5cf5b2d"
  },
  {
   "metadata": {
    "ExecuteTime": {
     "end_time": "2025-01-16T18:15:42.138669Z",
     "start_time": "2025-01-16T18:15:42.133440Z"
    }
   },
   "cell_type": "code",
   "source": [
    "driver = neo4j.GraphDatabase.driver(\n",
    "    os.environ.get(\"NEO4J_URL\"),\n",
    "    auth=(os.environ.get(\"NEO4J_USER\"), os.environ.get(\"NEO4J_PASSWORD\")),\n",
    ")"
   ],
   "id": "e7ab4b7f82e4145",
   "outputs": [],
   "execution_count": 5
  },
  {
   "metadata": {
    "ExecuteTime": {
     "end_time": "2025-01-15T17:01:19.719237Z",
     "start_time": "2025-01-15T17:01:19.636958Z"
    }
   },
   "cell_type": "code",
   "source": [
    "# Using Ollama:\n",
    "llm = OllamaLLM(\n",
    "    model_name=\"llama3.2:3b\",\n",
    "    model_params={\n",
    "        \"max_tokens\": 2000,\n",
    "        \"response_format\": {\"type\": \"json_object\"},\n",
    "        \"temperature\": 0,\n",
    "    },\n",
    ")\n",
    "embedder = OllamaEmbeddings(model=\"nomic-embed-text\")"
   ],
   "id": "f875504040c5893a",
   "outputs": [],
   "execution_count": 14
  },
  {
   "metadata": {},
   "cell_type": "code",
   "outputs": [],
   "execution_count": null,
   "source": [
    "# Using MistralAI\n",
    "# MISTRAL_API_KEY in env vars\n",
    "llm = MistralAILLM(model_name=\"mistral-large-latest\")\n",
    "embedder = MistralAIEmbeddings(model=\"mistral-embed\")"
   ],
   "id": "f116274748a57d8b"
  },
  {
   "metadata": {
    "ExecuteTime": {
     "end_time": "2025-01-16T18:15:45.871407Z",
     "start_time": "2025-01-16T18:15:45.445513Z"
    }
   },
   "cell_type": "code",
   "source": [
    "# Using OpenAI\n",
    "# OPENAI_API_KEY in env vars\n",
    "llm = OpenAILLM(model_name=\"gpt-4o\")\n",
    "embedder = OpenAIEmbeddings(model=\"text-embedding-ada-002\")"
   ],
   "id": "6dc2d972dede6ccc",
   "outputs": [],
   "execution_count": 6
  },
  {
   "metadata": {
    "ExecuteTime": {
     "end_time": "2025-01-15T17:01:20.192398Z",
     "start_time": "2025-01-15T17:01:20.180001Z"
    }
   },
   "cell_type": "code",
   "source": [
    "pipeline = SimpleKGPipeline(\n",
    "    driver=driver,\n",
    "    llm=llm,\n",
    "    embedder=embedder,\n",
    "    from_pdf=True,\n",
    ")"
   ],
   "id": "aba1c43c8fb2e58",
   "outputs": [],
   "execution_count": 15
  },
  {
   "metadata": {
    "ExecuteTime": {
     "end_time": "2025-01-16T18:15:49.425232Z",
     "start_time": "2025-01-16T18:15:49.418172Z"
    }
   },
   "cell_type": "code",
   "source": [
    "ENTITIES = [\n",
    "    \"Person\",\n",
    "    \"Country\",\n",
    "    {\n",
    "        \"label\": \"Company\",\n",
    "        \"description\": \"A private company\",\n",
    "        \"properties\": [\n",
    "            {\n",
    "                \"name\": \"name\",\n",
    "                \"type\": \"STRING\",\n",
    "            },\n",
    "            {\n",
    "                \"name\": \"industry\",\n",
    "                \"type\": \"STRING\",\n",
    "            }\n",
    "        ]\n",
    "    },\n",
    "]\n",
    "RELATIONS = [\n",
    "    \"WORKS_FOR\",\n",
    "    {\n",
    "        \"label\": \"LOCATED_IN\",\n",
    "        \"properties\": [\n",
    "            {\n",
    "                \"name\": \"city\",\n",
    "                \"description\": \"Extract the city if available\",\n",
    "                \"type\": \"STRING\",\n",
    "            }\n",
    "        ]\n",
    "    },\n",
    "]\n",
    "POTENTIAL_SCHEMA = [\n",
    "    (\"Person\", \"WORKS_FOR\", \"Company\"),\n",
    "    (\"Person\", \"LOCATED_IN\", \"Country\"),\n",
    "    (\"Company\", \"LOCATED_IN\", \"Country\"),\n",
    "]"
   ],
   "id": "7f69c20b956aa41a",
   "outputs": [],
   "execution_count": 7
  },
  {
   "metadata": {
    "ExecuteTime": {
     "end_time": "2025-01-16T18:15:50.651076Z",
     "start_time": "2025-01-16T18:15:50.552727Z"
    }
   },
   "cell_type": "code",
   "source": [
    "pipeline = SimpleKGPipeline(\n",
    "    driver=driver,\n",
    "    llm=llm,\n",
    "    embedder=embedder,\n",
    "    from_pdf=True,\n",
    "    entities=ENTITIES,\n",
    "    relations=RELATIONS,\n",
    "    potential_schema=POTENTIAL_SCHEMA,\n",
    "    text_splitter=FixedSizeSplitter(  # using smaller chunk size for demo purposes only\n",
    "        chunk_size=400,\n",
    "        chunk_overlap=10,\n",
    "    )\n",
    ")"
   ],
   "id": "ecc32d4d36568141",
   "outputs": [],
   "execution_count": 8
  },
  {
   "metadata": {
    "ExecuteTime": {
     "end_time": "2025-01-16T18:16:04.346639Z",
     "start_time": "2025-01-16T18:15:51.910542Z"
    }
   },
   "cell_type": "code",
   "source": "await pipeline.run_async(file_path=\"document.pdf\")",
   "id": "d101592ed8942373",
   "outputs": [
    {
     "data": {
      "text/plain": [
       "PipelineResult(run_id='4a82a60c-1d88-4fbe-a788-5a0d06d6caab', result={'resolver': {'number_of_nodes_to_resolve': 8, 'number_of_created_nodes': 6}})"
      ]
     },
     "execution_count": 9,
     "metadata": {},
     "output_type": "execute_result"
    }
   ],
   "execution_count": 9
  },
  {
   "metadata": {},
   "cell_type": "code",
   "outputs": [],
   "execution_count": null,
   "source": "",
   "id": "e807074d4df48f21"
  },
  {
   "metadata": {},
   "cell_type": "code",
   "outputs": [],
   "execution_count": null,
   "source": "",
   "id": "8e48528b1b6872e1"
  },
  {
   "metadata": {},
   "cell_type": "code",
   "outputs": [],
   "execution_count": null,
   "source": "",
   "id": "b5d76bc23c43b5c1"
  },
  {
   "metadata": {
    "ExecuteTime": {
     "end_time": "2025-01-15T17:11:38.608735Z",
     "start_time": "2025-01-15T17:11:38.600989Z"
    }
   },
   "cell_type": "code",
   "source": "from neo4j_graphrag.experimental.pipeline.config.runner import PipelineRunner",
   "id": "25241543d733fd56",
   "outputs": [],
   "execution_count": 27
  },
  {
   "metadata": {
    "ExecuteTime": {
     "end_time": "2025-01-15T17:13:17.906924Z",
     "start_time": "2025-01-15T17:13:11.376202Z"
    }
   },
   "cell_type": "code",
   "source": [
    "pipeline = PipelineRunner.from_config_file(\"config_kg_pipeline.json\")\n",
    "await pipeline.run({\"file_path\":\"document.pdf\"})"
   ],
   "id": "9c8b3fc6c30391da",
   "outputs": [
    {
     "data": {
      "text/plain": [
       "PipelineResult(run_id='dbbca3ec-2c59-43aa-99ed-962c9050e594', result={'resolver': {'number_of_nodes_to_resolve': 11, 'number_of_created_nodes': 6}})"
      ]
     },
     "execution_count": 29,
     "metadata": {},
     "output_type": "execute_result"
    }
   ],
   "execution_count": 29
  },
  {
   "metadata": {},
   "cell_type": "code",
   "outputs": [],
   "execution_count": null,
   "source": "",
   "id": "83d608877b515237"
  }
 ],
 "metadata": {
  "kernelspec": {
   "display_name": "Python 3",
   "language": "python",
   "name": "python3"
  },
  "language_info": {
   "codemirror_mode": {
    "name": "ipython",
    "version": 2
   },
   "file_extension": ".py",
   "mimetype": "text/x-python",
   "name": "python",
   "nbconvert_exporter": "python",
   "pygments_lexer": "ipython2",
   "version": "2.7.6"
  }
 },
 "nbformat": 4,
 "nbformat_minor": 5
}
