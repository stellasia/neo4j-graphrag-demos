{
 "cells": [
  {
   "metadata": {},
   "cell_type": "markdown",
   "source": [
    "# Knowledge Graph Builder\n",
    "\n",
    "https://neo4j.com/docs/neo4j-graphrag-python/current/user_guide_kg_builder.html\n",
    "\n"
   ],
   "id": "269f0d423adf0389"
  },
  {
   "metadata": {
    "collapsed": true,
    "ExecuteTime": {
     "end_time": "2025-01-15T17:00:25.988628Z",
     "start_time": "2025-01-15T17:00:25.287974Z"
    }
   },
   "cell_type": "code",
   "source": [
    "import os\n",
    "\n",
    "import neo4j\n",
    "\n",
    "from dotenv import load_dotenv\n",
    "\n",
    "from neo4j_graphrag.llm import OpenAILLM, MistralAILLM, OllamaLLM\n",
    "from neo4j_graphrag.embeddings import OpenAIEmbeddings, MistralAIEmbeddings, OllamaEmbeddings\n",
    "from neo4j_graphrag.experimental.pipeline.kg_builder import SimpleKGPipeline\n",
    "from neo4j_graphrag.experimental.components.text_splitters.fixed_size_splitter import FixedSizeSplitter"
   ],
   "id": "initial_id",
   "outputs": [],
   "execution_count": 1
  },
  {
   "metadata": {
    "ExecuteTime": {
     "end_time": "2025-01-15T17:00:26.002808Z",
     "start_time": "2025-01-15T17:00:25.998024Z"
    }
   },
   "cell_type": "code",
   "source": "load_dotenv()",
   "id": "4b81d9e9e3a42ccc",
   "outputs": [
    {
     "data": {
      "text/plain": [
       "True"
      ]
     },
     "execution_count": 2,
     "metadata": {},
     "output_type": "execute_result"
    }
   ],
   "execution_count": 2
  },
  {
   "metadata": {},
   "cell_type": "raw",
   "source": [
    "NEO4J_URL=\n",
    "NEO4J_USER=\n",
    "NEO4J_PASSWORD=\n",
    "OPENAI_API_KEY=\n",
    "MISTRAL_API_KEY="
   ],
   "id": "f7074314a5cf5b2d"
  },
  {
   "metadata": {
    "ExecuteTime": {
     "end_time": "2025-01-15T17:00:26.697605Z",
     "start_time": "2025-01-15T17:00:26.690948Z"
    }
   },
   "cell_type": "code",
   "source": [
    "driver = neo4j.GraphDatabase.driver(\n",
    "    os.environ.get(\"NEO4J_URL\"),\n",
    "    auth=(os.environ.get(\"NEO4J_USER\"), os.environ.get(\"NEO4J_PASSWORD\")),\n",
    ")"
   ],
   "id": "e7ab4b7f82e4145",
   "outputs": [],
   "execution_count": 3
  },
  {
   "metadata": {
    "ExecuteTime": {
     "end_time": "2025-01-15T17:01:19.719237Z",
     "start_time": "2025-01-15T17:01:19.636958Z"
    }
   },
   "cell_type": "code",
   "source": [
    "# Using Ollama:\n",
    "llm = OllamaLLM(\n",
    "    model_name=\"llama3.2:3b\",\n",
    "    model_params={\n",
    "        \"max_tokens\": 2000,\n",
    "        \"response_format\": {\"type\": \"json_object\"},\n",
    "        \"temperature\": 0,\n",
    "    },\n",
    ")\n",
    "embedder = OllamaEmbeddings(model=\"nomic-embed-text\")"
   ],
   "id": "f875504040c5893a",
   "outputs": [],
   "execution_count": 14
  },
  {
   "metadata": {},
   "cell_type": "code",
   "outputs": [],
   "execution_count": null,
   "source": [
    "# Using MistralAI\n",
    "# MISTRAL_API_KEY in env vars\n",
    "llm = MistralAILLM(model_name=\"mistral-large-latest\")\n",
    "embedder = MistralAIEmbeddings(model=\"mistral-embed\")"
   ],
   "id": "f116274748a57d8b"
  },
  {
   "metadata": {},
   "cell_type": "code",
   "outputs": [],
   "execution_count": null,
   "source": [
    "# Using OpenAI\n",
    "# OPENAI_API_KEY in env vars\n",
    "llm = OpenAILLM(model_name=\"gpt-4o\")\n",
    "embedder = OpenAIEmbeddings(model=\"text-embedding-ada-002\")"
   ],
   "id": "6dc2d972dede6ccc"
  },
  {
   "metadata": {
    "ExecuteTime": {
     "end_time": "2025-01-15T17:01:20.192398Z",
     "start_time": "2025-01-15T17:01:20.180001Z"
    }
   },
   "cell_type": "code",
   "source": [
    "pipeline = SimpleKGPipeline(\n",
    "    driver=driver,\n",
    "    llm=llm,\n",
    "    embedder=embedder,\n",
    "    from_pdf=True,\n",
    "    entities=[],\n",
    "    relations=[],\n",
    "    potential_schema=[],\n",
    ")"
   ],
   "id": "aba1c43c8fb2e58",
   "outputs": [],
   "execution_count": 15
  },
  {
   "metadata": {
    "ExecuteTime": {
     "end_time": "2025-01-15T17:01:20.733140Z",
     "start_time": "2025-01-15T17:01:20.729658Z"
    }
   },
   "cell_type": "code",
   "source": [
    "ENTITIES = [\n",
    "    \"Person\",\n",
    "    \"Country\",\n",
    "    {\n",
    "        \"label\": \"Company\",\n",
    "        \"description\": \"A private company\",\n",
    "        \"properties\": [\n",
    "            {\n",
    "                \"name\": \"name\",\n",
    "                \"type\": \"STRING\",\n",
    "            }\n",
    "        ]\n",
    "    },\n",
    "]\n",
    "RELATIONS = [\n",
    "    \"WORKS_FOR\",\n",
    "    {\n",
    "        \"label\": \"LOCATED_IN\",\n",
    "        \"properties\": [\n",
    "            {\n",
    "                \"name\": \"city\",\n",
    "                \"description\": \"Extract the city if available\",\n",
    "                \"type\": \"STRING\",\n",
    "            }\n",
    "        ]\n",
    "    },\n",
    "]\n",
    "POTENTIAL_SCHEMA = [\n",
    "    (\"Person\", \"WORKS_FOR\", \"Company\"),\n",
    "    (\"Person\", \"LOCATED_IN\", \"Country\"),\n",
    "    (\"Company\", \"LOCATED_IN\", \"Country\"),\n",
    "]"
   ],
   "id": "7f69c20b956aa41a",
   "outputs": [],
   "execution_count": 16
  },
  {
   "metadata": {
    "ExecuteTime": {
     "end_time": "2025-01-15T17:01:29.823014Z",
     "start_time": "2025-01-15T17:01:29.813594Z"
    }
   },
   "cell_type": "code",
   "source": [
    "pipeline = SimpleKGPipeline(\n",
    "    driver=driver,\n",
    "    llm=llm,\n",
    "    embedder=embedder,\n",
    "    from_pdf=True,\n",
    "    entities=ENTITIES,\n",
    "    relations=RELATIONS,\n",
    "    potential_schema=POTENTIAL_SCHEMA,\n",
    "    text_splitter=FixedSizeSplitter(  # using smaller chunk size for demo purposes only\n",
    "        chunk_size=400,\n",
    "        chunk_overlap=10,\n",
    "    )\n",
    ")"
   ],
   "id": "ecc32d4d36568141",
   "outputs": [],
   "execution_count": 19
  },
  {
   "metadata": {
    "ExecuteTime": {
     "end_time": "2025-01-15T17:01:31.755590Z",
     "start_time": "2025-01-15T17:01:30.367074Z"
    }
   },
   "cell_type": "code",
   "source": "await pipeline.run_async(file_path=\"document.pdf\")",
   "id": "d101592ed8942373",
   "outputs": [
    {
     "ename": "LLMGenerationError",
     "evalue": "API error occurred: Status 429\n{\"message\":\"Requests rate limit exceeded\"}",
     "output_type": "error",
     "traceback": [
      "\u001B[0;31m---------------------------------------------------------------------------\u001B[0m",
      "\u001B[0;31mSDKError\u001B[0m                                  Traceback (most recent call last)",
      "File \u001B[0;32m~/PycharmProjects/neo4j-graphrag-demos/meetup_20250116/.venv/lib/python3.12/site-packages/neo4j_graphrag/llm/mistralai_llm.py:144\u001B[0m, in \u001B[0;36mMistralAILLM.ainvoke\u001B[0;34m(self, input, message_history, system_instruction)\u001B[0m\n\u001B[1;32m    143\u001B[0m messages \u001B[38;5;241m=\u001B[39m \u001B[38;5;28mself\u001B[39m\u001B[38;5;241m.\u001B[39mget_messages(\u001B[38;5;28minput\u001B[39m, message_history, system_instruction)\n\u001B[0;32m--> 144\u001B[0m response \u001B[38;5;241m=\u001B[39m \u001B[38;5;28;01mawait\u001B[39;00m \u001B[38;5;28mself\u001B[39m\u001B[38;5;241m.\u001B[39mclient\u001B[38;5;241m.\u001B[39mchat\u001B[38;5;241m.\u001B[39mcomplete_async(\n\u001B[1;32m    145\u001B[0m     model\u001B[38;5;241m=\u001B[39m\u001B[38;5;28mself\u001B[39m\u001B[38;5;241m.\u001B[39mmodel_name,\n\u001B[1;32m    146\u001B[0m     messages\u001B[38;5;241m=\u001B[39mmessages,\n\u001B[1;32m    147\u001B[0m     \u001B[38;5;241m*\u001B[39m\u001B[38;5;241m*\u001B[39m\u001B[38;5;28mself\u001B[39m\u001B[38;5;241m.\u001B[39mmodel_params,\n\u001B[1;32m    148\u001B[0m )\n\u001B[1;32m    149\u001B[0m content: \u001B[38;5;28mstr\u001B[39m \u001B[38;5;241m=\u001B[39m \u001B[38;5;124m\"\u001B[39m\u001B[38;5;124m\"\u001B[39m\n",
      "File \u001B[0;32m~/PycharmProjects/neo4j-graphrag-demos/meetup_20250116/.venv/lib/python3.12/site-packages/mistralai/chat.py:295\u001B[0m, in \u001B[0;36mChat.complete_async\u001B[0;34m(self, model, messages, temperature, top_p, max_tokens, stream, stop, random_seed, response_format, tools, tool_choice, presence_penalty, frequency_penalty, n, safe_prompt, retries, server_url, timeout_ms, http_headers)\u001B[0m\n\u001B[1;32m    294\u001B[0m     http_res_text \u001B[38;5;241m=\u001B[39m \u001B[38;5;28;01mawait\u001B[39;00m utils\u001B[38;5;241m.\u001B[39mstream_to_text_async(http_res)\n\u001B[0;32m--> 295\u001B[0m     \u001B[38;5;28;01mraise\u001B[39;00m models\u001B[38;5;241m.\u001B[39mSDKError(\n\u001B[1;32m    296\u001B[0m         \u001B[38;5;124m\"\u001B[39m\u001B[38;5;124mAPI error occurred\u001B[39m\u001B[38;5;124m\"\u001B[39m, http_res\u001B[38;5;241m.\u001B[39mstatus_code, http_res_text, http_res\n\u001B[1;32m    297\u001B[0m     )\n\u001B[1;32m    299\u001B[0m content_type \u001B[38;5;241m=\u001B[39m http_res\u001B[38;5;241m.\u001B[39mheaders\u001B[38;5;241m.\u001B[39mget(\u001B[38;5;124m\"\u001B[39m\u001B[38;5;124mContent-Type\u001B[39m\u001B[38;5;124m\"\u001B[39m)\n",
      "\u001B[0;31mSDKError\u001B[0m: API error occurred: Status 429\n{\"message\":\"Requests rate limit exceeded\"}",
      "\nDuring handling of the above exception, another exception occurred:\n",
      "\u001B[0;31mLLMGenerationError\u001B[0m                        Traceback (most recent call last)",
      "Cell \u001B[0;32mIn[20], line 1\u001B[0m\n\u001B[0;32m----> 1\u001B[0m \u001B[38;5;28;01mawait\u001B[39;00m pipeline\u001B[38;5;241m.\u001B[39mrun_async(file_path\u001B[38;5;241m=\u001B[39m\u001B[38;5;124m\"\u001B[39m\u001B[38;5;124mdocument.pdf\u001B[39m\u001B[38;5;124m\"\u001B[39m)\n",
      "File \u001B[0;32m~/PycharmProjects/neo4j-graphrag-demos/meetup_20250116/.venv/lib/python3.12/site-packages/neo4j_graphrag/experimental/pipeline/kg_builder.py:126\u001B[0m, in \u001B[0;36mSimpleKGPipeline.run_async\u001B[0;34m(self, file_path, text)\u001B[0m\n\u001B[1;32m    113\u001B[0m \u001B[38;5;28;01masync\u001B[39;00m \u001B[38;5;28;01mdef\u001B[39;00m\u001B[38;5;250m \u001B[39m\u001B[38;5;21mrun_async\u001B[39m(\n\u001B[1;32m    114\u001B[0m     \u001B[38;5;28mself\u001B[39m, file_path: Optional[\u001B[38;5;28mstr\u001B[39m] \u001B[38;5;241m=\u001B[39m \u001B[38;5;28;01mNone\u001B[39;00m, text: Optional[\u001B[38;5;28mstr\u001B[39m] \u001B[38;5;241m=\u001B[39m \u001B[38;5;28;01mNone\u001B[39;00m\n\u001B[1;32m    115\u001B[0m ) \u001B[38;5;241m-\u001B[39m\u001B[38;5;241m>\u001B[39m PipelineResult:\n\u001B[1;32m    116\u001B[0m \u001B[38;5;250m    \u001B[39m\u001B[38;5;124;03m\"\"\"\u001B[39;00m\n\u001B[1;32m    117\u001B[0m \u001B[38;5;124;03m    Asynchronously runs the knowledge graph building process.\u001B[39;00m\n\u001B[1;32m    118\u001B[0m \n\u001B[0;32m   (...)\u001B[0m\n\u001B[1;32m    124\u001B[0m \u001B[38;5;124;03m        PipelineResult: The result of the pipeline execution.\u001B[39;00m\n\u001B[1;32m    125\u001B[0m \u001B[38;5;124;03m    \"\"\"\u001B[39;00m\n\u001B[0;32m--> 126\u001B[0m     \u001B[38;5;28;01mreturn\u001B[39;00m \u001B[38;5;28;01mawait\u001B[39;00m \u001B[38;5;28mself\u001B[39m\u001B[38;5;241m.\u001B[39mrunner\u001B[38;5;241m.\u001B[39mrun({\u001B[38;5;124m\"\u001B[39m\u001B[38;5;124mfile_path\u001B[39m\u001B[38;5;124m\"\u001B[39m: file_path, \u001B[38;5;124m\"\u001B[39m\u001B[38;5;124mtext\u001B[39m\u001B[38;5;124m\"\u001B[39m: text})\n",
      "File \u001B[0;32m~/PycharmProjects/neo4j-graphrag-demos/meetup_20250116/.venv/lib/python3.12/site-packages/neo4j_graphrag/experimental/pipeline/config/runner.py:130\u001B[0m, in \u001B[0;36mPipelineRunner.run\u001B[0;34m(self, user_input)\u001B[0m\n\u001B[1;32m    126\u001B[0m     run_param \u001B[38;5;241m=\u001B[39m deep_update(\u001B[38;5;28mself\u001B[39m\u001B[38;5;241m.\u001B[39mrun_params, user_input)\n\u001B[1;32m    127\u001B[0m logger\u001B[38;5;241m.\u001B[39minfo(\n\u001B[1;32m    128\u001B[0m     \u001B[38;5;124mf\u001B[39m\u001B[38;5;124m\"\u001B[39m\u001B[38;5;124mPIPELINE_RUNNER: starting pipeline \u001B[39m\u001B[38;5;132;01m{\u001B[39;00m\u001B[38;5;28mself\u001B[39m\u001B[38;5;241m.\u001B[39mpipeline\u001B[38;5;132;01m}\u001B[39;00m\u001B[38;5;124m with run_params=\u001B[39m\u001B[38;5;132;01m{\u001B[39;00mprettify(run_param)\u001B[38;5;132;01m}\u001B[39;00m\u001B[38;5;124m\"\u001B[39m\n\u001B[1;32m    129\u001B[0m )\n\u001B[0;32m--> 130\u001B[0m result \u001B[38;5;241m=\u001B[39m \u001B[38;5;28;01mawait\u001B[39;00m \u001B[38;5;28mself\u001B[39m\u001B[38;5;241m.\u001B[39mpipeline\u001B[38;5;241m.\u001B[39mrun(data\u001B[38;5;241m=\u001B[39mrun_param)\n\u001B[1;32m    131\u001B[0m \u001B[38;5;28;01mif\u001B[39;00m \u001B[38;5;28mself\u001B[39m\u001B[38;5;241m.\u001B[39mdo_cleaning:\n\u001B[1;32m    132\u001B[0m     \u001B[38;5;28;01mawait\u001B[39;00m \u001B[38;5;28mself\u001B[39m\u001B[38;5;241m.\u001B[39mclose()\n",
      "File \u001B[0;32m~/PycharmProjects/neo4j-graphrag-demos/meetup_20250116/.venv/lib/python3.12/site-packages/neo4j_graphrag/experimental/pipeline/pipeline.py:640\u001B[0m, in \u001B[0;36mPipeline.run\u001B[0;34m(self, data)\u001B[0m\n\u001B[1;32m    638\u001B[0m orchestrator \u001B[38;5;241m=\u001B[39m Orchestrator(\u001B[38;5;28mself\u001B[39m)\n\u001B[1;32m    639\u001B[0m logger\u001B[38;5;241m.\u001B[39mdebug(\u001B[38;5;124mf\u001B[39m\u001B[38;5;124m\"\u001B[39m\u001B[38;5;124mPIPELINE ORCHESTRATOR: \u001B[39m\u001B[38;5;132;01m{\u001B[39;00morchestrator\u001B[38;5;241m.\u001B[39mrun_id\u001B[38;5;132;01m}\u001B[39;00m\u001B[38;5;124m\"\u001B[39m)\n\u001B[0;32m--> 640\u001B[0m \u001B[38;5;28;01mawait\u001B[39;00m orchestrator\u001B[38;5;241m.\u001B[39mrun(data)\n\u001B[1;32m    641\u001B[0m end_time \u001B[38;5;241m=\u001B[39m default_timer()\n\u001B[1;32m    642\u001B[0m logger\u001B[38;5;241m.\u001B[39mdebug(\n\u001B[1;32m    643\u001B[0m     \u001B[38;5;124mf\u001B[39m\u001B[38;5;124m\"\u001B[39m\u001B[38;5;124mPIPELINE FINISHED \u001B[39m\u001B[38;5;132;01m{\u001B[39;00morchestrator\u001B[38;5;241m.\u001B[39mrun_id\u001B[38;5;132;01m}\u001B[39;00m\u001B[38;5;124m in \u001B[39m\u001B[38;5;132;01m{\u001B[39;00mend_time\u001B[38;5;250m \u001B[39m\u001B[38;5;241m-\u001B[39m\u001B[38;5;250m \u001B[39mstart_time\u001B[38;5;132;01m}\u001B[39;00m\u001B[38;5;124ms\u001B[39m\u001B[38;5;124m\"\u001B[39m\n\u001B[1;32m    644\u001B[0m )\n",
      "File \u001B[0;32m~/PycharmProjects/neo4j-graphrag-demos/meetup_20250116/.venv/lib/python3.12/site-packages/neo4j_graphrag/experimental/pipeline/pipeline.py:327\u001B[0m, in \u001B[0;36mOrchestrator.run\u001B[0;34m(self, data)\u001B[0m\n\u001B[1;32m    322\u001B[0m \u001B[38;5;250m\u001B[39m\u001B[38;5;124;03m\"\"\"Run the pipline, starting from the root nodes\u001B[39;00m\n\u001B[1;32m    323\u001B[0m \u001B[38;5;124;03m(node without any parent). Then the callback on_task_complete\u001B[39;00m\n\u001B[1;32m    324\u001B[0m \u001B[38;5;124;03mwill handle the task dependencies.\u001B[39;00m\n\u001B[1;32m    325\u001B[0m \u001B[38;5;124;03m\"\"\"\u001B[39;00m\n\u001B[1;32m    326\u001B[0m tasks \u001B[38;5;241m=\u001B[39m [\u001B[38;5;28mself\u001B[39m\u001B[38;5;241m.\u001B[39mrun_task(root, data) \u001B[38;5;28;01mfor\u001B[39;00m root \u001B[38;5;129;01min\u001B[39;00m \u001B[38;5;28mself\u001B[39m\u001B[38;5;241m.\u001B[39mpipeline\u001B[38;5;241m.\u001B[39mroots()]\n\u001B[0;32m--> 327\u001B[0m \u001B[38;5;28;01mawait\u001B[39;00m asyncio\u001B[38;5;241m.\u001B[39mgather(\u001B[38;5;241m*\u001B[39mtasks)\n",
      "File \u001B[0;32m~/PycharmProjects/neo4j-graphrag-demos/meetup_20250116/.venv/lib/python3.12/site-packages/neo4j_graphrag/experimental/pipeline/pipeline.py:153\u001B[0m, in \u001B[0;36mOrchestrator.run_task\u001B[0;34m(self, task, data)\u001B[0m\n\u001B[1;32m    151\u001B[0m \u001B[38;5;28;01mawait\u001B[39;00m \u001B[38;5;28mself\u001B[39m\u001B[38;5;241m.\u001B[39mset_task_status(task\u001B[38;5;241m.\u001B[39mname, RunStatus\u001B[38;5;241m.\u001B[39mDONE)\n\u001B[1;32m    152\u001B[0m \u001B[38;5;28;01mif\u001B[39;00m res:\n\u001B[0;32m--> 153\u001B[0m     \u001B[38;5;28;01mawait\u001B[39;00m \u001B[38;5;28mself\u001B[39m\u001B[38;5;241m.\u001B[39mon_task_complete(data\u001B[38;5;241m=\u001B[39mdata, task\u001B[38;5;241m=\u001B[39mtask, result\u001B[38;5;241m=\u001B[39mres)\n",
      "File \u001B[0;32m~/PycharmProjects/neo4j-graphrag-demos/meetup_20250116/.venv/lib/python3.12/site-packages/neo4j_graphrag/experimental/pipeline/pipeline.py:192\u001B[0m, in \u001B[0;36mOrchestrator.on_task_complete\u001B[0;34m(self, data, task, result)\u001B[0m\n\u001B[1;32m    187\u001B[0m \u001B[38;5;28;01mawait\u001B[39;00m \u001B[38;5;28mself\u001B[39m\u001B[38;5;241m.\u001B[39madd_result_for_component(\n\u001B[1;32m    188\u001B[0m     task\u001B[38;5;241m.\u001B[39mname, res_to_save, is_final\u001B[38;5;241m=\u001B[39mtask\u001B[38;5;241m.\u001B[39mis_leaf()\n\u001B[1;32m    189\u001B[0m )\n\u001B[1;32m    190\u001B[0m \u001B[38;5;66;03m# then get the next tasks to be executed\u001B[39;00m\n\u001B[1;32m    191\u001B[0m \u001B[38;5;66;03m# and run them in //\u001B[39;00m\n\u001B[0;32m--> 192\u001B[0m \u001B[38;5;28;01mawait\u001B[39;00m asyncio\u001B[38;5;241m.\u001B[39mgather(\u001B[38;5;241m*\u001B[39m[\u001B[38;5;28mself\u001B[39m\u001B[38;5;241m.\u001B[39mrun_task(n, data) \u001B[38;5;28;01masync\u001B[39;00m \u001B[38;5;28;01mfor\u001B[39;00m n \u001B[38;5;129;01min\u001B[39;00m \u001B[38;5;28mself\u001B[39m\u001B[38;5;241m.\u001B[39mnext(task)])\n",
      "File \u001B[0;32m~/PycharmProjects/neo4j-graphrag-demos/meetup_20250116/.venv/lib/python3.12/site-packages/neo4j_graphrag/experimental/pipeline/pipeline.py:153\u001B[0m, in \u001B[0;36mOrchestrator.run_task\u001B[0;34m(self, task, data)\u001B[0m\n\u001B[1;32m    151\u001B[0m \u001B[38;5;28;01mawait\u001B[39;00m \u001B[38;5;28mself\u001B[39m\u001B[38;5;241m.\u001B[39mset_task_status(task\u001B[38;5;241m.\u001B[39mname, RunStatus\u001B[38;5;241m.\u001B[39mDONE)\n\u001B[1;32m    152\u001B[0m \u001B[38;5;28;01mif\u001B[39;00m res:\n\u001B[0;32m--> 153\u001B[0m     \u001B[38;5;28;01mawait\u001B[39;00m \u001B[38;5;28mself\u001B[39m\u001B[38;5;241m.\u001B[39mon_task_complete(data\u001B[38;5;241m=\u001B[39mdata, task\u001B[38;5;241m=\u001B[39mtask, result\u001B[38;5;241m=\u001B[39mres)\n",
      "File \u001B[0;32m~/PycharmProjects/neo4j-graphrag-demos/meetup_20250116/.venv/lib/python3.12/site-packages/neo4j_graphrag/experimental/pipeline/pipeline.py:192\u001B[0m, in \u001B[0;36mOrchestrator.on_task_complete\u001B[0;34m(self, data, task, result)\u001B[0m\n\u001B[1;32m    187\u001B[0m \u001B[38;5;28;01mawait\u001B[39;00m \u001B[38;5;28mself\u001B[39m\u001B[38;5;241m.\u001B[39madd_result_for_component(\n\u001B[1;32m    188\u001B[0m     task\u001B[38;5;241m.\u001B[39mname, res_to_save, is_final\u001B[38;5;241m=\u001B[39mtask\u001B[38;5;241m.\u001B[39mis_leaf()\n\u001B[1;32m    189\u001B[0m )\n\u001B[1;32m    190\u001B[0m \u001B[38;5;66;03m# then get the next tasks to be executed\u001B[39;00m\n\u001B[1;32m    191\u001B[0m \u001B[38;5;66;03m# and run them in //\u001B[39;00m\n\u001B[0;32m--> 192\u001B[0m \u001B[38;5;28;01mawait\u001B[39;00m asyncio\u001B[38;5;241m.\u001B[39mgather(\u001B[38;5;241m*\u001B[39m[\u001B[38;5;28mself\u001B[39m\u001B[38;5;241m.\u001B[39mrun_task(n, data) \u001B[38;5;28;01masync\u001B[39;00m \u001B[38;5;28;01mfor\u001B[39;00m n \u001B[38;5;129;01min\u001B[39;00m \u001B[38;5;28mself\u001B[39m\u001B[38;5;241m.\u001B[39mnext(task)])\n",
      "File \u001B[0;32m~/PycharmProjects/neo4j-graphrag-demos/meetup_20250116/.venv/lib/python3.12/site-packages/neo4j_graphrag/experimental/pipeline/pipeline.py:153\u001B[0m, in \u001B[0;36mOrchestrator.run_task\u001B[0;34m(self, task, data)\u001B[0m\n\u001B[1;32m    151\u001B[0m \u001B[38;5;28;01mawait\u001B[39;00m \u001B[38;5;28mself\u001B[39m\u001B[38;5;241m.\u001B[39mset_task_status(task\u001B[38;5;241m.\u001B[39mname, RunStatus\u001B[38;5;241m.\u001B[39mDONE)\n\u001B[1;32m    152\u001B[0m \u001B[38;5;28;01mif\u001B[39;00m res:\n\u001B[0;32m--> 153\u001B[0m     \u001B[38;5;28;01mawait\u001B[39;00m \u001B[38;5;28mself\u001B[39m\u001B[38;5;241m.\u001B[39mon_task_complete(data\u001B[38;5;241m=\u001B[39mdata, task\u001B[38;5;241m=\u001B[39mtask, result\u001B[38;5;241m=\u001B[39mres)\n",
      "File \u001B[0;32m~/PycharmProjects/neo4j-graphrag-demos/meetup_20250116/.venv/lib/python3.12/site-packages/neo4j_graphrag/experimental/pipeline/pipeline.py:192\u001B[0m, in \u001B[0;36mOrchestrator.on_task_complete\u001B[0;34m(self, data, task, result)\u001B[0m\n\u001B[1;32m    187\u001B[0m \u001B[38;5;28;01mawait\u001B[39;00m \u001B[38;5;28mself\u001B[39m\u001B[38;5;241m.\u001B[39madd_result_for_component(\n\u001B[1;32m    188\u001B[0m     task\u001B[38;5;241m.\u001B[39mname, res_to_save, is_final\u001B[38;5;241m=\u001B[39mtask\u001B[38;5;241m.\u001B[39mis_leaf()\n\u001B[1;32m    189\u001B[0m )\n\u001B[1;32m    190\u001B[0m \u001B[38;5;66;03m# then get the next tasks to be executed\u001B[39;00m\n\u001B[1;32m    191\u001B[0m \u001B[38;5;66;03m# and run them in //\u001B[39;00m\n\u001B[0;32m--> 192\u001B[0m \u001B[38;5;28;01mawait\u001B[39;00m asyncio\u001B[38;5;241m.\u001B[39mgather(\u001B[38;5;241m*\u001B[39m[\u001B[38;5;28mself\u001B[39m\u001B[38;5;241m.\u001B[39mrun_task(n, data) \u001B[38;5;28;01masync\u001B[39;00m \u001B[38;5;28;01mfor\u001B[39;00m n \u001B[38;5;129;01min\u001B[39;00m \u001B[38;5;28mself\u001B[39m\u001B[38;5;241m.\u001B[39mnext(task)])\n",
      "File \u001B[0;32m~/PycharmProjects/neo4j-graphrag-demos/meetup_20250116/.venv/lib/python3.12/site-packages/neo4j_graphrag/experimental/pipeline/pipeline.py:150\u001B[0m, in \u001B[0;36mOrchestrator.run_task\u001B[0;34m(self, task, data)\u001B[0m\n\u001B[1;32m    146\u001B[0m     logger\u001B[38;5;241m.\u001B[39mdebug(\n\u001B[1;32m    147\u001B[0m         \u001B[38;5;124mf\u001B[39m\u001B[38;5;124m\"\u001B[39m\u001B[38;5;124mORCHESTRATOR: TASK ABORTED: \u001B[39m\u001B[38;5;132;01m{\u001B[39;00mtask\u001B[38;5;241m.\u001B[39mname\u001B[38;5;132;01m}\u001B[39;00m\u001B[38;5;124m is already running or done, aborting\u001B[39m\u001B[38;5;124m\"\u001B[39m\n\u001B[1;32m    148\u001B[0m     )\n\u001B[1;32m    149\u001B[0m     \u001B[38;5;28;01mreturn\u001B[39;00m \u001B[38;5;28;01mNone\u001B[39;00m\n\u001B[0;32m--> 150\u001B[0m res \u001B[38;5;241m=\u001B[39m \u001B[38;5;28;01mawait\u001B[39;00m task\u001B[38;5;241m.\u001B[39mrun(inputs)\n\u001B[1;32m    151\u001B[0m \u001B[38;5;28;01mawait\u001B[39;00m \u001B[38;5;28mself\u001B[39m\u001B[38;5;241m.\u001B[39mset_task_status(task\u001B[38;5;241m.\u001B[39mname, RunStatus\u001B[38;5;241m.\u001B[39mDONE)\n\u001B[1;32m    152\u001B[0m \u001B[38;5;28;01mif\u001B[39;00m res:\n",
      "File \u001B[0;32m~/PycharmProjects/neo4j-graphrag-demos/meetup_20250116/.venv/lib/python3.12/site-packages/neo4j_graphrag/experimental/pipeline/pipeline.py:105\u001B[0m, in \u001B[0;36mTaskPipelineNode.run\u001B[0;34m(self, inputs)\u001B[0m\n\u001B[1;32m    103\u001B[0m logger\u001B[38;5;241m.\u001B[39mdebug(\u001B[38;5;124mf\u001B[39m\u001B[38;5;124m\"\u001B[39m\u001B[38;5;124mTASK START \u001B[39m\u001B[38;5;132;01m{\u001B[39;00m\u001B[38;5;28mself\u001B[39m\u001B[38;5;241m.\u001B[39mname\u001B[38;5;132;01m=}\u001B[39;00m\u001B[38;5;124m input=\u001B[39m\u001B[38;5;132;01m{\u001B[39;00mprettify(inputs)\u001B[38;5;132;01m}\u001B[39;00m\u001B[38;5;124m\"\u001B[39m)\n\u001B[1;32m    104\u001B[0m start_time \u001B[38;5;241m=\u001B[39m default_timer()\n\u001B[0;32m--> 105\u001B[0m res \u001B[38;5;241m=\u001B[39m \u001B[38;5;28;01mawait\u001B[39;00m \u001B[38;5;28mself\u001B[39m\u001B[38;5;241m.\u001B[39mexecute(\u001B[38;5;241m*\u001B[39m\u001B[38;5;241m*\u001B[39minputs)\n\u001B[1;32m    106\u001B[0m end_time \u001B[38;5;241m=\u001B[39m default_timer()\n\u001B[1;32m    107\u001B[0m logger\u001B[38;5;241m.\u001B[39mdebug(\n\u001B[1;32m    108\u001B[0m     \u001B[38;5;124mf\u001B[39m\u001B[38;5;124m\"\u001B[39m\u001B[38;5;124mTASK FINISHED \u001B[39m\u001B[38;5;132;01m{\u001B[39;00m\u001B[38;5;28mself\u001B[39m\u001B[38;5;241m.\u001B[39mname\u001B[38;5;132;01m}\u001B[39;00m\u001B[38;5;124m in \u001B[39m\u001B[38;5;132;01m{\u001B[39;00mend_time\u001B[38;5;250m \u001B[39m\u001B[38;5;241m-\u001B[39m\u001B[38;5;250m \u001B[39mstart_time\u001B[38;5;132;01m}\u001B[39;00m\u001B[38;5;124m res=\u001B[39m\u001B[38;5;132;01m{\u001B[39;00mprettify(res)\u001B[38;5;132;01m}\u001B[39;00m\u001B[38;5;124m\"\u001B[39m\n\u001B[1;32m    109\u001B[0m )\n",
      "File \u001B[0;32m~/PycharmProjects/neo4j-graphrag-demos/meetup_20250116/.venv/lib/python3.12/site-packages/neo4j_graphrag/experimental/pipeline/pipeline.py:95\u001B[0m, in \u001B[0;36mTaskPipelineNode.execute\u001B[0;34m(self, **kwargs)\u001B[0m\n\u001B[1;32m     87\u001B[0m \u001B[38;5;28;01masync\u001B[39;00m \u001B[38;5;28;01mdef\u001B[39;00m\u001B[38;5;250m \u001B[39m\u001B[38;5;21mexecute\u001B[39m(\u001B[38;5;28mself\u001B[39m, \u001B[38;5;241m*\u001B[39m\u001B[38;5;241m*\u001B[39mkwargs: Any) \u001B[38;5;241m-\u001B[39m\u001B[38;5;241m>\u001B[39m RunResult \u001B[38;5;241m|\u001B[39m \u001B[38;5;28;01mNone\u001B[39;00m:\n\u001B[1;32m     88\u001B[0m \u001B[38;5;250m    \u001B[39m\u001B[38;5;124;03m\"\"\"Execute the task\u001B[39;00m\n\u001B[1;32m     89\u001B[0m \n\u001B[1;32m     90\u001B[0m \u001B[38;5;124;03m    Returns:\u001B[39;00m\n\u001B[0;32m   (...)\u001B[0m\n\u001B[1;32m     93\u001B[0m \u001B[38;5;124;03m        was unsuccessful.\u001B[39;00m\n\u001B[1;32m     94\u001B[0m \u001B[38;5;124;03m    \"\"\"\u001B[39;00m\n\u001B[0;32m---> 95\u001B[0m     component_result \u001B[38;5;241m=\u001B[39m \u001B[38;5;28;01mawait\u001B[39;00m \u001B[38;5;28mself\u001B[39m\u001B[38;5;241m.\u001B[39mcomponent\u001B[38;5;241m.\u001B[39mrun(\u001B[38;5;241m*\u001B[39m\u001B[38;5;241m*\u001B[39mkwargs)\n\u001B[1;32m     96\u001B[0m     run_result \u001B[38;5;241m=\u001B[39m RunResult(\n\u001B[1;32m     97\u001B[0m         result\u001B[38;5;241m=\u001B[39mcomponent_result,\n\u001B[1;32m     98\u001B[0m     )\n\u001B[1;32m     99\u001B[0m     \u001B[38;5;28;01mreturn\u001B[39;00m run_result\n",
      "File \u001B[0;32m~/PycharmProjects/neo4j-graphrag-demos/meetup_20250116/.venv/lib/python3.12/site-packages/pydantic/_internal/_validate_call.py:33\u001B[0m, in \u001B[0;36mupdate_wrapper_attributes.<locals>.wrapper_function\u001B[0;34m(*args, **kwargs)\u001B[0m\n\u001B[1;32m     31\u001B[0m \u001B[38;5;129m@functools\u001B[39m\u001B[38;5;241m.\u001B[39mwraps(wrapped)\n\u001B[1;32m     32\u001B[0m \u001B[38;5;28;01masync\u001B[39;00m \u001B[38;5;28;01mdef\u001B[39;00m\u001B[38;5;250m \u001B[39m\u001B[38;5;21mwrapper_function\u001B[39m(\u001B[38;5;241m*\u001B[39margs, \u001B[38;5;241m*\u001B[39m\u001B[38;5;241m*\u001B[39mkwargs):  \u001B[38;5;66;03m# type: ignore\u001B[39;00m\n\u001B[0;32m---> 33\u001B[0m     \u001B[38;5;28;01mreturn\u001B[39;00m \u001B[38;5;28;01mawait\u001B[39;00m wrapper(\u001B[38;5;241m*\u001B[39margs, \u001B[38;5;241m*\u001B[39m\u001B[38;5;241m*\u001B[39mkwargs)\n",
      "File \u001B[0;32m~/PycharmProjects/neo4j-graphrag-demos/meetup_20250116/.venv/lib/python3.12/site-packages/neo4j_graphrag/experimental/components/entity_relation_extractor.py:336\u001B[0m, in \u001B[0;36mLLMEntityRelationExtractor.run\u001B[0;34m(self, chunks, document_info, lexical_graph_config, schema, examples, **kwargs)\u001B[0m\n\u001B[1;32m    325\u001B[0m sem \u001B[38;5;241m=\u001B[39m asyncio\u001B[38;5;241m.\u001B[39mSemaphore(\u001B[38;5;28mself\u001B[39m\u001B[38;5;241m.\u001B[39mmax_concurrency)\n\u001B[1;32m    326\u001B[0m tasks \u001B[38;5;241m=\u001B[39m [\n\u001B[1;32m    327\u001B[0m     \u001B[38;5;28mself\u001B[39m\u001B[38;5;241m.\u001B[39mrun_for_chunk(\n\u001B[1;32m    328\u001B[0m         sem,\n\u001B[0;32m   (...)\u001B[0m\n\u001B[1;32m    334\u001B[0m     \u001B[38;5;28;01mfor\u001B[39;00m chunk \u001B[38;5;129;01min\u001B[39;00m chunks\u001B[38;5;241m.\u001B[39mchunks\n\u001B[1;32m    335\u001B[0m ]\n\u001B[0;32m--> 336\u001B[0m chunk_graphs: \u001B[38;5;28mlist\u001B[39m[Neo4jGraph] \u001B[38;5;241m=\u001B[39m \u001B[38;5;28mlist\u001B[39m(\u001B[38;5;28;01mawait\u001B[39;00m asyncio\u001B[38;5;241m.\u001B[39mgather(\u001B[38;5;241m*\u001B[39mtasks))\n\u001B[1;32m    337\u001B[0m graph \u001B[38;5;241m=\u001B[39m \u001B[38;5;28mself\u001B[39m\u001B[38;5;241m.\u001B[39mcombine_chunk_graphs(lexical_graph, chunk_graphs)\n\u001B[1;32m    338\u001B[0m logger\u001B[38;5;241m.\u001B[39mdebug(\u001B[38;5;124mf\u001B[39m\u001B[38;5;124m\"\u001B[39m\u001B[38;5;124mExtracted graph: \u001B[39m\u001B[38;5;132;01m{\u001B[39;00mprettify(graph)\u001B[38;5;132;01m}\u001B[39;00m\u001B[38;5;124m\"\u001B[39m)\n",
      "File \u001B[0;32m~/PycharmProjects/neo4j-graphrag-demos/meetup_20250116/.venv/lib/python3.12/site-packages/neo4j_graphrag/experimental/components/entity_relation_extractor.py:280\u001B[0m, in \u001B[0;36mLLMEntityRelationExtractor.run_for_chunk\u001B[0;34m(self, sem, chunk, schema, examples, lexical_graph_builder)\u001B[0m\n\u001B[1;32m    278\u001B[0m \u001B[38;5;250m\u001B[39m\u001B[38;5;124;03m\"\"\"Run extraction and post processing for a single chunk\"\"\"\u001B[39;00m\n\u001B[1;32m    279\u001B[0m \u001B[38;5;28;01masync\u001B[39;00m \u001B[38;5;28;01mwith\u001B[39;00m sem:\n\u001B[0;32m--> 280\u001B[0m     chunk_graph \u001B[38;5;241m=\u001B[39m \u001B[38;5;28;01mawait\u001B[39;00m \u001B[38;5;28mself\u001B[39m\u001B[38;5;241m.\u001B[39mextract_for_chunk(schema, examples, chunk)\n\u001B[1;32m    281\u001B[0m     \u001B[38;5;28;01mawait\u001B[39;00m \u001B[38;5;28mself\u001B[39m\u001B[38;5;241m.\u001B[39mpost_process_chunk(\n\u001B[1;32m    282\u001B[0m         chunk_graph,\n\u001B[1;32m    283\u001B[0m         chunk,\n\u001B[1;32m    284\u001B[0m         lexical_graph_builder,\n\u001B[1;32m    285\u001B[0m     )\n\u001B[1;32m    286\u001B[0m     \u001B[38;5;28;01mreturn\u001B[39;00m chunk_graph\n",
      "File \u001B[0;32m~/PycharmProjects/neo4j-graphrag-demos/meetup_20250116/.venv/lib/python3.12/site-packages/neo4j_graphrag/experimental/components/entity_relation_extractor.py:214\u001B[0m, in \u001B[0;36mLLMEntityRelationExtractor.extract_for_chunk\u001B[0;34m(self, schema, examples, chunk)\u001B[0m\n\u001B[1;32m    210\u001B[0m \u001B[38;5;250m\u001B[39m\u001B[38;5;124;03m\"\"\"Run entity extraction for a given text chunk.\"\"\"\u001B[39;00m\n\u001B[1;32m    211\u001B[0m prompt \u001B[38;5;241m=\u001B[39m \u001B[38;5;28mself\u001B[39m\u001B[38;5;241m.\u001B[39mprompt_template\u001B[38;5;241m.\u001B[39mformat(\n\u001B[1;32m    212\u001B[0m     text\u001B[38;5;241m=\u001B[39mchunk\u001B[38;5;241m.\u001B[39mtext, schema\u001B[38;5;241m=\u001B[39mschema\u001B[38;5;241m.\u001B[39mmodel_dump(), examples\u001B[38;5;241m=\u001B[39mexamples\n\u001B[1;32m    213\u001B[0m )\n\u001B[0;32m--> 214\u001B[0m llm_result \u001B[38;5;241m=\u001B[39m \u001B[38;5;28;01mawait\u001B[39;00m \u001B[38;5;28mself\u001B[39m\u001B[38;5;241m.\u001B[39mllm\u001B[38;5;241m.\u001B[39mainvoke(prompt)\n\u001B[1;32m    215\u001B[0m \u001B[38;5;28;01mtry\u001B[39;00m:\n\u001B[1;32m    216\u001B[0m     llm_generated_json \u001B[38;5;241m=\u001B[39m fix_invalid_json(llm_result\u001B[38;5;241m.\u001B[39mcontent)\n",
      "File \u001B[0;32m~/PycharmProjects/neo4j-graphrag-demos/meetup_20250116/.venv/lib/python3.12/site-packages/neo4j_graphrag/llm/mistralai_llm.py:156\u001B[0m, in \u001B[0;36mMistralAILLM.ainvoke\u001B[0;34m(self, input, message_history, system_instruction)\u001B[0m\n\u001B[1;32m    154\u001B[0m     \u001B[38;5;28;01mreturn\u001B[39;00m LLMResponse(content\u001B[38;5;241m=\u001B[39mcontent)\n\u001B[1;32m    155\u001B[0m \u001B[38;5;28;01mexcept\u001B[39;00m SDKError \u001B[38;5;28;01mas\u001B[39;00m e:\n\u001B[0;32m--> 156\u001B[0m     \u001B[38;5;28;01mraise\u001B[39;00m LLMGenerationError(e)\n",
      "\u001B[0;31mLLMGenerationError\u001B[0m: API error occurred: Status 429\n{\"message\":\"Requests rate limit exceeded\"}"
     ]
    }
   ],
   "execution_count": 20
  },
  {
   "metadata": {},
   "cell_type": "code",
   "outputs": [],
   "execution_count": null,
   "source": "",
   "id": "e807074d4df48f21"
  },
  {
   "metadata": {},
   "cell_type": "code",
   "outputs": [],
   "execution_count": null,
   "source": "",
   "id": "8e48528b1b6872e1"
  },
  {
   "metadata": {},
   "cell_type": "code",
   "outputs": [],
   "execution_count": null,
   "source": "",
   "id": "b5d76bc23c43b5c1"
  },
  {
   "metadata": {
    "ExecuteTime": {
     "end_time": "2025-01-15T17:11:38.608735Z",
     "start_time": "2025-01-15T17:11:38.600989Z"
    }
   },
   "cell_type": "code",
   "source": "from neo4j_graphrag.experimental.pipeline.config.runner import PipelineRunner",
   "id": "25241543d733fd56",
   "outputs": [],
   "execution_count": 27
  },
  {
   "metadata": {
    "ExecuteTime": {
     "end_time": "2025-01-15T17:13:17.906924Z",
     "start_time": "2025-01-15T17:13:11.376202Z"
    }
   },
   "cell_type": "code",
   "source": [
    "pipeline = PipelineRunner.from_config_file(\"config_kg_pipeline.json\")\n",
    "await pipeline.run({\"file_path\":\"document.pdf\"})"
   ],
   "id": "9c8b3fc6c30391da",
   "outputs": [
    {
     "data": {
      "text/plain": [
       "PipelineResult(run_id='dbbca3ec-2c59-43aa-99ed-962c9050e594', result={'resolver': {'number_of_nodes_to_resolve': 11, 'number_of_created_nodes': 6}})"
      ]
     },
     "execution_count": 29,
     "metadata": {},
     "output_type": "execute_result"
    }
   ],
   "execution_count": 29
  },
  {
   "metadata": {},
   "cell_type": "code",
   "outputs": [],
   "execution_count": null,
   "source": "",
   "id": "83d608877b515237"
  }
 ],
 "metadata": {
  "kernelspec": {
   "display_name": "Python 3",
   "language": "python",
   "name": "python3"
  },
  "language_info": {
   "codemirror_mode": {
    "name": "ipython",
    "version": 2
   },
   "file_extension": ".py",
   "mimetype": "text/x-python",
   "name": "python",
   "nbconvert_exporter": "python",
   "pygments_lexer": "ipython2",
   "version": "2.7.6"
  }
 },
 "nbformat": 4,
 "nbformat_minor": 5
}
